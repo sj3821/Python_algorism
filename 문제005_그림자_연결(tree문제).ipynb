{
 "cells": [
  {
   "cell_type": "code",
   "execution_count": 1,
   "metadata": {},
   "outputs": [],
   "source": [
    "graph = {100: set([67, 66]),\n",
    "         67: set([100, 82, 63]),\n",
    "         66: set([100, 73, 69]),\n",
    "         82: set([67, 61, 79]),\n",
    "         63: set([67]),\n",
    "         73: set([66]),\n",
    "         69: set([66, 65, 81]),\n",
    "         61: set([82]),\n",
    "         79: set([82, 87, 77]),\n",
    "         65: set([69, 84, 99]),\n",
    "         81: set([69]),\n",
    "         87: set([79, 31, 78]),\n",
    "         77: set([79]),\n",
    "         84: set([65]),\n",
    "         99: set([65]),\n",
    "         31: set([87]),\n",
    "         78: set([87])}"
   ]
  },
  {
   "cell_type": "code",
   "execution_count": 6,
   "metadata": {},
   "outputs": [
    {
     "data": {
      "text/plain": [
       "{66, 67}"
      ]
     },
     "execution_count": 6,
     "metadata": {},
     "output_type": "execute_result"
    }
   ],
   "source": [
    "graph[100]"
   ]
  },
  {
   "cell_type": "code",
   "execution_count": 8,
   "metadata": {},
   "outputs": [
    {
     "data": {
      "text/plain": [
       "66"
      ]
     },
     "execution_count": 8,
     "metadata": {},
     "output_type": "execute_result"
    }
   ],
   "source": [
    "min(graph[100])"
   ]
  },
  {
   "cell_type": "code",
   "execution_count": 18,
   "metadata": {},
   "outputs": [
    {
     "name": "stdout",
     "output_type": "stream",
     "text": [
      "visited:[100]\n",
      "stack:[66]\n",
      "visited:[100, 66]\n",
      "stack:[69]\n",
      "visited:[100, 66, 69]\n",
      "stack:[65]\n",
      "visited:[100, 66, 69, 65]\n",
      "stack:[84]\n"
     ]
    },
    {
     "data": {
      "text/plain": [
       "[100, 66, 69, 65, 84]"
      ]
     },
     "execution_count": 18,
     "metadata": {},
     "output_type": "execute_result"
    }
   ],
   "source": [
    "# 깊이우선탐색(DFS, Depth First Search) - Stack\n",
    "# 현재 정점에서 한 방향으로 가면서 검사하기.\n",
    "# 막힌 정점은 포기하고 마지막에 따라온 간선으로 되돌아간다\n",
    "\n",
    "def 깊이우선탐색(graph, start): # 2진트리데이터가 저장된 graph, 시작하는 노드 start\n",
    "    방문=[] #방문할 노드들을 여기에 저장\n",
    "    stack = [start]  #stack에 시작 노드를 넣는다 \n",
    "    \n",
    "    while stack:\n",
    "        n = stack.pop() # n에 stack 제일 위의 값을 pop해 꺼낸다\n",
    "        if n not in 방문:  # 방문에 n이 없으면 \n",
    "            방문.append(n)  # 방문에 n을 추가한다\n",
    "            차집합 = graph[n]-set(방문) #차집합에 graph[n]에서 방문에 포함되어 있는 값을 빼고  넣는다            \n",
    "            if len(차집합) == 0: #차집합에 들어있는 값이 0이면\n",
    "                break; #브레이크를 걸고 다음으로 넘어간다\n",
    "            stack.append(min(차집합)) # stack에 차집합을 더하는데, 작은값으로 순회를 한다 큰값으로 순회하려면 max(차집합)\n",
    "            print(f'visited:{방문}')\n",
    "            print(f'stack:{stack}')\n",
    "    return 방문\n",
    "\n",
    "깊이우선탐색(graph,100)"
   ]
  },
  {
   "cell_type": "code",
   "execution_count": 23,
   "metadata": {},
   "outputs": [
    {
     "data": {
      "text/plain": [
       "'BEAT'"
      ]
     },
     "execution_count": 23,
     "metadata": {},
     "output_type": "execute_result"
    }
   ],
   "source": [
    "''.join([chr(i) for i in [66,69,65,84]])\n",
    "#작은값으로 순회한 경우 나오는 값을 아스키코드 문자로 변환"
   ]
  },
  {
   "cell_type": "code",
   "execution_count": 24,
   "metadata": {},
   "outputs": [
    {
     "data": {
      "text/plain": [
       "'CROWN'"
      ]
     },
     "execution_count": 24,
     "metadata": {},
     "output_type": "execute_result"
    }
   ],
   "source": [
    "''.join([chr(i) for i in [67,82,79,87,78]])\n",
    "#큰값으로 순회한 경우 나오는 값을 아스키코드 문자로 변환"
   ]
  },
  {
   "cell_type": "code",
   "execution_count": null,
   "metadata": {},
   "outputs": [],
   "source": [
    "# 너비우선탐색(BFS, Breadth First Search) - Queue\n",
    "# 가까운 정점을 먼저 방문, 먼 정점은 나중에 방문\n",
    "\n"
   ]
  }
 ],
 "metadata": {
  "kernelspec": {
   "display_name": "Python 3",
   "language": "python",
   "name": "python3"
  },
  "language_info": {
   "codemirror_mode": {
    "name": "ipython",
    "version": 3
   },
   "file_extension": ".py",
   "mimetype": "text/x-python",
   "name": "python",
   "nbconvert_exporter": "python",
   "pygments_lexer": "ipython3",
   "version": "3.8.3"
  }
 },
 "nbformat": 4,
 "nbformat_minor": 4
}
