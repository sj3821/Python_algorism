{
 "cells": [
  {
   "cell_type": "code",
   "execution_count": 1,
   "metadata": {},
   "outputs": [
    {
     "name": "stdout",
     "output_type": "stream",
     "text": [
      "2\n"
     ]
    }
   ],
   "source": [
    "# 람다함수 : 익명의 함수. 함수에 이름이 없다. 람다표현식이라고도 부름.\n",
    "\n",
    "def plus_one(x):\n",
    "    return x+1\n",
    "\n",
    "print(plus_one(1))"
   ]
  },
  {
   "cell_type": "code",
   "execution_count": 3,
   "metadata": {},
   "outputs": [
    {
     "name": "stdout",
     "output_type": "stream",
     "text": [
      "<function <lambda> at 0x000001D307EB90D0>\n",
      "3\n"
     ]
    }
   ],
   "source": [
    "plus_two=lambda x: x+2 #람다함수는 리턴을 받을 변수에 할당을 해줘야한다\n",
    "print(plus_two)\n",
    "print(plus_two(1))"
   ]
  },
  {
   "cell_type": "code",
   "execution_count": 6,
   "metadata": {},
   "outputs": [
    {
     "name": "stdout",
     "output_type": "stream",
     "text": [
      "[2, 3, 4]\n",
      "[2, 3, 4]\n"
     ]
    }
   ],
   "source": [
    "a=[1, 2, 3]\n",
    "\n",
    "# map(함수명, 자료(데이터)) \n",
    "\n",
    "print(list(map(plus_one,a)))\n",
    "print(list(map(lambda x:x+1,a)))"
   ]
  }
 ],
 "metadata": {
  "kernelspec": {
   "display_name": "Python 3",
   "language": "python",
   "name": "python3"
  },
  "language_info": {
   "codemirror_mode": {
    "name": "ipython",
    "version": 3
   },
   "file_extension": ".py",
   "mimetype": "text/x-python",
   "name": "python",
   "nbconvert_exporter": "python",
   "pygments_lexer": "ipython3",
   "version": "3.8.3"
  }
 },
 "nbformat": 4,
 "nbformat_minor": 4
}
