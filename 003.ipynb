{
 "cells": [
  {
   "cell_type": "code",
   "execution_count": 6,
   "metadata": {},
   "outputs": [
    {
     "name": "stdout",
     "output_type": "stream",
     "text": [
      "hello world 1\n",
      "hello world 2\n",
      "hello world 3\n",
      "hello world 4\n",
      "good job\n"
     ]
    }
   ],
   "source": [
    "# 2부\n",
    "# 반복문(while, for) , 조건문(if, elif, else)\n",
    "\n",
    "a= 1\n",
    "while a<5 :\n",
    "    print('hello world',a)\n",
    "    if a>9:\n",
    "        break\n",
    "    a+=1\n",
    "else: # else는 정상종료가 되었을 경우에 실행된다(while false이거나, while이 break를 거치거나하지 않고 정상종료 되었을 때)\n",
    "    print('good job')"
   ]
  },
  {
   "cell_type": "code",
   "execution_count": 12,
   "metadata": {},
   "outputs": [
    {
     "name": "stdout",
     "output_type": "stream",
     "text": [
      "10\n",
      "20\n",
      "30\n",
      "40\n",
      "40\n",
      "10\n",
      "20\n",
      "30\n",
      "one\n",
      "two\n",
      "0\n",
      "1\n",
      "2\n",
      "3\n",
      "4\n",
      "5\n",
      "6\n",
      "7\n",
      "8\n",
      "9\n"
     ]
    }
   ],
   "source": [
    "l = [10,20,30,40]   #list\n",
    "s = {10,20,30,40,10,10,10} #set\n",
    "d = {'one':1,'two':2} #dictionary\n",
    "for i in l : #순회가 가능한 것은 for in으로 반복할 수 있다.\n",
    "    print(i)\n",
    "for i in s :\n",
    "    print(i)\n",
    "for i in d :\n",
    "    print(i)\n",
    "\n",
    "#주로 아래와 같은 형태로 쓴다\n",
    "for i in range(10): #range(10) 은 0부터 9까지 만들어준다.\n",
    "    print(i)"
   ]
  },
  {
   "cell_type": "code",
   "execution_count": 18,
   "metadata": {},
   "outputs": [
    {
     "name": "stdout",
     "output_type": "stream",
     "text": [
      "<class 'range'>\n",
      "[0, 1, 2, 3, 4, 5, 6, 7, 8, 9]\n",
      "1 [0, 1, 2, 3, 4, 5, 6, 7, 8, 9]\n",
      "2 [5, 6, 7, 8, 9]\n",
      "3 [2, 4, 6, 8]\n",
      "4 [10, 9, 8, 7, 6]\n",
      "5 []\n"
     ]
    }
   ],
   "source": [
    "#range(start, stop, step)\n",
    "\n",
    "print(type(range(10))) # range형 type\n",
    "print(list(range(10))) #list로 형변환\n",
    "\n",
    "print(1,list(range(10)))\n",
    "print(2,list(range(5, 10))) #5부터 10, 5부터 9까지 출력됨\n",
    "print(3,list(range(2,10,2))) # 2부터 10, 2칸씩이니까 2,4,6,8\n",
    "print(4,list(range(10,5,-1))) #10부터 5, 까지 -1이니까 10,9,8,7 ,6 출력\n",
    "print(5,list(range(-10))) #아무것도 안나옴"
   ]
  },
  {
   "cell_type": "code",
   "execution_count": 20,
   "metadata": {},
   "outputs": [
    {
     "name": "stdout",
     "output_type": "stream",
     "text": [
      " \n",
      "h\n",
      "e\n",
      "l\n",
      "l\n",
      "o\n",
      " \n",
      "w\n",
      "o\n",
      "r\n",
      "l\n",
      "d\n"
     ]
    }
   ],
   "source": [
    "for i in ' hello world':\n",
    "    print(i)"
   ]
  },
  {
   "cell_type": "code",
   "execution_count": 23,
   "metadata": {},
   "outputs": [
    {
     "name": "stdout",
     "output_type": "stream",
     "text": [
      "0\n",
      "1\n",
      "2\n",
      "3\n",
      "4\n",
      "5\n"
     ]
    }
   ],
   "source": [
    "for i in range(10):\n",
    "    print(i)\n",
    "    if i==5:\n",
    "        break\n",
    "else:\n",
    "    print('good job')"
   ]
  },
  {
   "cell_type": "code",
   "execution_count": 30,
   "metadata": {},
   "outputs": [
    {
     "name": "stdout",
     "output_type": "stream",
     "text": [
      "[0, 1, 2, 3, 4, 5, 6, 7, 8, 9, 10, 11, 12, 13, 14, 15, 16, 17, 18, 19, 20, 21, 22, 23, 24, 25, 26, 27, 28, 29, 30, 31, 32, 33, 34, 35, 36, 37, 38, 39, 40, 41, 42, 43, 44, 45, 46, 47, 48, 49, 50, 51, 52, 53, 54, 55, 56, 57, 58, 59, 60, 61, 62, 63, 64, 65, 66, 67, 68, 69, 70, 71, 72, 73, 74, 75, 76, 77, 78, 79, 80, 81, 82, 83, 84, 85, 86, 87, 88, 89, 90, 91, 92, 93, 94, 95, 96, 97, 98, 99, 100]\n",
      "[0, 1, 2, 3, 4, 5, 6, 7, 8, 9]\n",
      "['2 X 1 = 2', '2 X 2 = 4', '2 X 3 = 6', '2 X 4 = 8', '2 X 5 = 10', '2 X 6 = 12', '2 X 7 = 14', '2 X 8 = 16', '2 X 9 = 18', '3 X 1 = 3', '3 X 2 = 6', '3 X 3 = 9', '3 X 4 = 12', '3 X 5 = 15', '3 X 6 = 18', '3 X 7 = 21', '3 X 8 = 24', '3 X 9 = 27', '4 X 1 = 4', '4 X 2 = 8', '4 X 3 = 12', '4 X 4 = 16', '4 X 5 = 20', '4 X 6 = 24', '4 X 7 = 28', '4 X 8 = 32', '4 X 9 = 36', '5 X 1 = 5', '5 X 2 = 10', '5 X 3 = 15', '5 X 4 = 20', '5 X 5 = 25', '5 X 6 = 30', '5 X 7 = 35', '5 X 8 = 40', '5 X 9 = 45', '6 X 1 = 6', '6 X 2 = 12', '6 X 3 = 18', '6 X 4 = 24', '6 X 5 = 30', '6 X 6 = 36', '6 X 7 = 42', '6 X 8 = 48', '6 X 9 = 54', '7 X 1 = 7', '7 X 2 = 14', '7 X 3 = 21', '7 X 4 = 28', '7 X 5 = 35', '7 X 6 = 42', '7 X 7 = 49', '7 X 8 = 56', '7 X 9 = 63', '8 X 1 = 8', '8 X 2 = 16', '8 X 3 = 24', '8 X 4 = 32', '8 X 5 = 40', '8 X 6 = 48', '8 X 7 = 56', '8 X 8 = 64', '8 X 9 = 72', '9 X 1 = 9', '9 X 2 = 18', '9 X 3 = 27', '9 X 4 = 36', '9 X 5 = 45', '9 X 6 = 54', '9 X 7 = 63', '9 X 8 = 72', '9 X 9 = 81']\n"
     ]
    }
   ],
   "source": [
    "l = list(range(101)) # 0부터 100까지 들어있는 리스트 만들기\n",
    "print(l)\n",
    " \n",
    "ll=[i for i in range(10)] #진행형 리스트\n",
    "# for i in range(10):\n",
    "#     ll.append(i)\n",
    "print(ll)\n",
    "\n",
    "# for i in range(2,10):\n",
    "#     for j in range(1,10):\n",
    "#         print('{} X {} = {}'.format(i,j,i*j))\n",
    "lll = ['{} X {} = {}'.format(i,j,i*j) for i in range(2,10) for j in range(1,10)]\n",
    "print(lll)"
   ]
  },
  {
   "cell_type": "code",
   "execution_count": 2,
   "metadata": {},
   "outputs": [
    {
     "name": "stdout",
     "output_type": "stream",
     "text": [
      "30\n",
      "1 10\n",
      "2 20\n",
      "3 30\n",
      "4 40\n"
     ]
    }
   ],
   "source": [
    "#다중인자리스트순회\n",
    "\n",
    "l = [(1, 10),(2, 20),(3, 30), (4, 40)]\n",
    "print(l[2][1]) # 0,1,2   2번째에서 0,1 1번째   = 30\n",
    "\n",
    "for i,j in l : #언팩킹\n",
    "    print(i,j)  #튜플형태가 아닌 변수값으로 사용할 수 있다\n",
    "    "
   ]
  },
  {
   "cell_type": "code",
   "execution_count": 4,
   "metadata": {},
   "outputs": [
    {
     "name": "stdout",
     "output_type": "stream",
     "text": [
      "1 100\n",
      "2 200\n",
      "3 300\n",
      "4 400\n",
      "5 500\n",
      "6 600\n",
      "7 700\n",
      "8 800\n",
      "9 900\n"
     ]
    }
   ],
   "source": [
    "#enumerate\n",
    "\n",
    "for i,j in enumerate(range(100,1000,100),1): \n",
    "    #빌트인펑션 : print,range와 같은 파이썬에서 미리 정해져 있는 함수\n",
    "    #enumerate : 2개의 인자값을 만들어줌. 1부터 시작하는 하나의 순서 있는 값을 만들어주고, 그리고 앞에 있는 값으로 순회가 가능하게 함. \n",
    "    #어떤 것을 데이터로 가지고 와서 순위를 매길때, 번호를 넘버링할때 많이 사용함\n",
    "    print(i,j)"
   ]
  },
  {
   "cell_type": "code",
   "execution_count": 8,
   "metadata": {},
   "outputs": [
    {
     "name": "stdout",
     "output_type": "stream",
     "text": [
      "hello world\n",
      "hello world\n",
      "hello world\n",
      "hello world\n",
      "hello world\n",
      "hello world\n"
     ]
    }
   ],
   "source": [
    "#pass : 에러가 안나게끔 일단 대처하는 것 그냥 해당 부분을 통과하는 거라고 보면 됨.\n",
    "#continue : 다음 순회로 넘어가는 것 \n",
    "for i in range(10):\n",
    "    if i>5:\n",
    "        continue # i가 5를 넘으면 다음 순회로 넘어감. 그래서 아래의 print가 실행이 안됨\n",
    "    print('hello world') \n"
   ]
  }
 ],
 "metadata": {
  "kernelspec": {
   "display_name": "Python 3",
   "language": "python",
   "name": "python3"
  },
  "language_info": {
   "codemirror_mode": {
    "name": "ipython",
    "version": 3
   },
   "file_extension": ".py",
   "mimetype": "text/x-python",
   "name": "python",
   "nbconvert_exporter": "python",
   "pygments_lexer": "ipython3",
   "version": "3.7.4"
  }
 },
 "nbformat": 4,
 "nbformat_minor": 2
}
