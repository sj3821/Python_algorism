{
 "cells": [
  {
   "cell_type": "markdown",
   "metadata": {},
   "source": [
    "## 재귀함수\n",
    "\n",
    "* 내가 나를 호출하는 방법\n",
    "* 반복문 <-> 재귀함수"
   ]
  },
  {
   "cell_type": "markdown",
   "metadata": {},
   "source": [
    "## 1부터 100까지의 합\n",
    "\n",
    "1. x = 0\n",
    "2. x += 1\n",
    "3. x += 2\n",
    "4. x += 3\n",
    "5. x += 4\n",
    "6. ...\n",
    "7. x +=100"
   ]
  },
  {
   "cell_type": "code",
   "execution_count": 8,
   "metadata": {},
   "outputs": [
    {
     "name": "stdout",
     "output_type": "stream",
     "text": [
      "500000500000\n",
      "Wall time: 97 ms\n"
     ]
    }
   ],
   "source": [
    "%%time\n",
    "# 시그마 공식 : n*(n+1)//2\n",
    "x = 0\n",
    "n=1000000\n",
    "for i in range(1,n+1):\n",
    "    x+=i\n",
    "\n",
    "\n",
    "print(x)\n",
    "\n",
    "# O(n)"
   ]
  },
  {
   "cell_type": "code",
   "execution_count": 10,
   "metadata": {},
   "outputs": [
    {
     "name": "stdout",
     "output_type": "stream",
     "text": [
      "500000500000\n",
      "Wall time: 0 ns\n"
     ]
    }
   ],
   "source": [
    "%%time\n",
    "# 시그마 공식 : n*(n+1)//2\n",
    "x = 0\n",
    "n=1000000\n",
    "\n",
    "x = n *(n+1)//2\n",
    "print(x)\n",
    "\n",
    "# O(1)"
   ]
  },
  {
   "cell_type": "markdown",
   "metadata": {},
   "source": [
    "## 1부터 100까지의 곱\n",
    "\n",
    "1. x = 1\n",
    "2. x *= 1\n",
    "3. x *= 2\n",
    "4. x *= 3\n",
    "5. x *= 4\n",
    "6. ...\n",
    "7. x *=100"
   ]
  },
  {
   "cell_type": "code",
   "execution_count": 3,
   "metadata": {},
   "outputs": [
    {
     "name": "stdout",
     "output_type": "stream",
     "text": [
      "120\n"
     ]
    }
   ],
   "source": [
    "# 팩토리얼\n",
    "# 5! = 5 * 4 * 3 * 2 * 1 = 120\n",
    "# 4! = 4 * 3 * 2 * 1 = 24\n",
    "x = 1\n",
    "n=5\n",
    "for i in range(1,6):\n",
    "    x*=i\n",
    "print(x)"
   ]
  }
 ],
 "metadata": {
  "kernelspec": {
   "display_name": "Python 3",
   "language": "python",
   "name": "python3"
  },
  "language_info": {
   "codemirror_mode": {
    "name": "ipython",
    "version": 3
   },
   "file_extension": ".py",
   "mimetype": "text/x-python",
   "name": "python",
   "nbconvert_exporter": "python",
   "pygments_lexer": "ipython3",
   "version": "3.8.3"
  }
 },
 "nbformat": 4,
 "nbformat_minor": 4
}
