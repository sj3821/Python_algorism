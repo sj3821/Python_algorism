{
 "cells": [
  {
   "cell_type": "code",
   "execution_count": 6,
   "metadata": {},
   "outputs": [
    {
     "name": "stdout",
     "output_type": "stream",
     "text": [
      "5\n"
     ]
    }
   ],
   "source": [
    "def add(a, b):\n",
    "    c=a+b\n",
    "    print(c)\n",
    "    \n",
    "    \n",
    "add(3, 2)"
   ]
  },
  {
   "cell_type": "code",
   "execution_count": 2,
   "metadata": {},
   "outputs": [
    {
     "name": "stdout",
     "output_type": "stream",
     "text": [
      "12\n"
     ]
    }
   ],
   "source": [
    "add(5,7)"
   ]
  },
  {
   "cell_type": "code",
   "execution_count": 13,
   "metadata": {},
   "outputs": [
    {
     "name": "stdout",
     "output_type": "stream",
     "text": [
      "5\n"
     ]
    }
   ],
   "source": [
    " def add1(a,b):\n",
    "    c=a+b\n",
    "    return c\n",
    "\n",
    "x= add1(3,2)\n",
    "print(x)"
   ]
  },
  {
   "cell_type": "code",
   "execution_count": 14,
   "metadata": {},
   "outputs": [
    {
     "name": "stdout",
     "output_type": "stream",
     "text": [
      "(5, 1)\n"
     ]
    }
   ],
   "source": [
    "def add2(a,b):\n",
    "    c=a+b\n",
    "    d=a-b\n",
    "    return c, d # 정수값 2개를 리턴할 수도 있음 튜플 구조로 리턴\n",
    "\n",
    "print(add2(3,2))"
   ]
  },
  {
   "cell_type": "code",
   "execution_count": 17,
   "metadata": {},
   "outputs": [
    {
     "name": "stdout",
     "output_type": "stream",
     "text": [
      "13 7 19 "
     ]
    }
   ],
   "source": [
    "a=[12, 13, 7, 9, 19]\n",
    "\n",
    "# 약수는 1과 자신 외에는 나눠지면안되니까 2 ~ 자신-1 까지 나눠지는지 확인함\n",
    "def isPrime(x):\n",
    "    for i in range(2,x):  \n",
    "        if x%i==0: # 2와 x-1로 나눠지면 \n",
    "            return False # False 리턴\n",
    "    return True # if문에서 안걸러졌으니까 1과 자기자신으로만 나눠진다는 뜻이니 소수다\n",
    "\n",
    "for y in a :\n",
    "    if isPrime(y):\n",
    "        print(y, end= ' ')"
   ]
  }
 ],
 "metadata": {
  "kernelspec": {
   "display_name": "Python 3",
   "language": "python",
   "name": "python3"
  },
  "language_info": {
   "codemirror_mode": {
    "name": "ipython",
    "version": 3
   },
   "file_extension": ".py",
   "mimetype": "text/x-python",
   "name": "python",
   "nbconvert_exporter": "python",
   "pygments_lexer": "ipython3",
   "version": "3.8.3"
  }
 },
 "nbformat": 4,
 "nbformat_minor": 4
}
