{
 "cells": [
  {
   "cell_type": "code",
   "execution_count": 5,
   "metadata": {},
   "outputs": [],
   "source": [
    "import numpy as np # numpy 라이브러리 :시간측정 코딩테스트의 경우 유리하다!\n",
    "\n",
    "첫번째밭 = [\n",
    "    [1,0,0,0,0],\n",
    "    [0,0,1,0,1],\n",
    "    [0,0,1,0,1],\n",
    "    [0,0,1,0,1],\n",
    "    [0,0,1,0,1]\n",
    "]\n",
    "\n",
    "두번째밭 = [\n",
    "    [0,0,0,0,1],\n",
    "    [0,0,0,0,3],\n",
    "    [0,0,0,0,4],\n",
    "    [0,2,0,0,2],\n",
    "    [4,5,0,2,0]\n",
    "]"
   ]
  },
  {
   "cell_type": "code",
   "execution_count": 7,
   "metadata": {},
   "outputs": [
    {
     "data": {
      "text/plain": [
       "array([[2, 3, 4, 2, 0],\n",
       "       [0, 0, 1, 0, 3],\n",
       "       [0, 0, 1, 0, 1],\n",
       "       [0, 0, 1, 2, 6],\n",
       "       [0, 0, 1, 0, 5]])"
      ]
     },
     "execution_count": 7,
     "metadata": {},
     "output_type": "execute_result"
    }
   ],
   "source": [
    "# np.rot90 배열을 반시계방향으로 90도로 회전시킨다. \n",
    "# 시계방향으로 돌리려는 경우 -1을 넣는다.\n",
    "np.rot90(두번째밭, 1) + np.array(첫번째밭) # 반시계방향으로 90도 회전시킨 두번째밭과 첫번째밭을 더한다.\n"
   ]
  },
  {
   "cell_type": "code",
   "execution_count": 9,
   "metadata": {},
   "outputs": [
    {
     "data": {
      "text/plain": [
       "array([[ 0,  3,  4,  2,  0],\n",
       "       [ 0,  0, -1,  0,  1],\n",
       "       [ 0,  0, -1,  0, -1],\n",
       "       [ 0,  0, -1,  2,  4],\n",
       "       [ 0,  0, -1,  0,  3]])"
      ]
     },
     "execution_count": 9,
     "metadata": {},
     "output_type": "execute_result"
    }
   ],
   "source": [
    "np.rot90(두번째밭,1) - np.array(첫번째밭) #반시계방향으로 90도 회전시킨 두번째밭에서 첫번째밭을 뺀다\n",
    "# 음수 결과값은 이 문제에서 정답이 되기 어렵다고 판단됨.(패스~)"
   ]
  },
  {
   "cell_type": "code",
   "execution_count": 11,
   "metadata": {},
   "outputs": [
    {
     "data": {
      "text/plain": [
       "array([[ 0, -3, -4, -2,  0],\n",
       "       [ 0,  0,  1,  0, -1],\n",
       "       [ 0,  0,  1,  0,  1],\n",
       "       [ 0,  0,  1, -2, -4],\n",
       "       [ 0,  0,  1,  0, -3]])"
      ]
     },
     "execution_count": 11,
     "metadata": {},
     "output_type": "execute_result"
    }
   ],
   "source": [
    "np.array(첫번째밭) - np.rot90(두번째밭,1) #첫번째밭에서 반시계방향으로 90도 회전시킨 두번째밭을 뺀다.\n",
    "# 음수 결과값은 이 문제에서 정답이 되기 어렵다고 판단됨.(패스~)"
   ]
  },
  {
   "cell_type": "code",
   "execution_count": 13,
   "metadata": {},
   "outputs": [
    {
     "data": {
      "text/plain": [
       "array([[1, 0, 0, 0, 0],\n",
       "       [0, 0, 0, 0, 2],\n",
       "       [0, 0, 0, 0, 0],\n",
       "       [0, 0, 0, 0, 5],\n",
       "       [0, 0, 0, 0, 4]])"
      ]
     },
     "execution_count": 13,
     "metadata": {},
     "output_type": "execute_result"
    }
   ],
   "source": [
    "np.array(첫번째밭) * np.rot90(두번째밭,1) #첫번째밭에서 반시계방향으로 90도 회전시킨 두번째밭을 곱한다."
   ]
  },
  {
   "cell_type": "code",
   "execution_count": 16,
   "metadata": {},
   "outputs": [
    {
     "data": {
      "text/plain": [
       "array([[1, 3, 4, 2, 0],\n",
       "       [0, 0, 0, 0, 4],\n",
       "       [0, 0, 0, 0, 4],\n",
       "       [0, 0, 0, 0, 4],\n",
       "       [0, 0, 0, 0, 4]])"
      ]
     },
     "execution_count": 16,
     "metadata": {},
     "output_type": "execute_result"
    }
   ],
   "source": [
    "np.array(첫번째밭) @ np.rot90(두번째밭,1) #첫번째밭에서 반시계방향으로 90도 회전시킨 두번째밭을 행렬의 곱셈을 한다\n",
    "# 행렬의 곱셈 : https://m.blog.naver.com/PostView.nhn?blogId=junhyuk7272&logNo=50128686426&proxyReferer=https:%2F%2Fwww.google.com%2F"
   ]
  },
  {
   "cell_type": "code",
   "execution_count": 19,
   "metadata": {},
   "outputs": [],
   "source": [
    "정답 = np.rot90(두번째밭, 1) + np.array(첫번째밭) \n"
   ]
  },
  {
   "cell_type": "code",
   "execution_count": 21,
   "metadata": {},
   "outputs": [
    {
     "data": {
      "text/plain": [
       "'23420'"
      ]
     },
     "execution_count": 21,
     "metadata": {},
     "output_type": "execute_result"
    }
   ],
   "source": [
    "''.join([str(i) for i in 정답[0]])"
   ]
  },
  {
   "cell_type": "code",
   "execution_count": 24,
   "metadata": {},
   "outputs": [
    {
     "data": {
      "text/plain": [
       "10000"
      ]
     },
     "execution_count": 24,
     "metadata": {},
     "output_type": "execute_result"
    }
   ],
   "source": [
    "int(''.join([str(i) for i in 정답[0]]),8)"
   ]
  },
  {
   "cell_type": "code",
   "execution_count": 26,
   "metadata": {},
   "outputs": [
    {
     "data": {
      "text/plain": [
       "'C'"
      ]
     },
     "execution_count": 26,
     "metadata": {},
     "output_type": "execute_result"
    }
   ],
   "source": [
    "chr(int(''.join([str(i) for i in 정답[1]]),8))"
   ]
  },
  {
   "cell_type": "code",
   "execution_count": 29,
   "metadata": {},
   "outputs": [
    {
     "name": "stdout",
     "output_type": "stream",
     "text": [
      "✐\n",
      "C\n",
      "A\n",
      "V\n",
      "E\n"
     ]
    }
   ],
   "source": [
    "for k in range(5):\n",
    "    print(chr(int(''.join([str(i) for i in 정답[k]]),8)))\n",
    "    \n",
    "# 10000, CAVE 니까 만장굴 이라고 유추하게 됨 (문제상에서~)"
   ]
  },
  {
   "cell_type": "code",
   "execution_count": 31,
   "metadata": {},
   "outputs": [],
   "source": [
    "# numpy를 사용하지 않고 하나하나 풀어서 풀어보기~~~ "
   ]
  },
  {
   "cell_type": "code",
   "execution_count": 47,
   "metadata": {},
   "outputs": [],
   "source": [
    "sample = [\n",
    "    [0,0,0,0,0],\n",
    "    [0,0,0,0,0],\n",
    "    [0,0,0,0,0],\n",
    "    [0,0,0,0,0],\n",
    "    [0,0,0,0,0],\n",
    "]\n",
    "\n",
    "첫번째밭 = [\n",
    "    [1,0,0,0,0],\n",
    "    [0,0,1,0,1],\n",
    "    [0,0,1,0,1],\n",
    "    [0,0,1,0,1],\n",
    "    [0,0,1,0,1]\n",
    "]\n",
    "\n",
    "두번째밭 = [\n",
    "    [0,0,0,0,1],\n",
    "    [0,0,0,0,3],\n",
    "    [0,0,0,0,4],\n",
    "    [0,2,0,0,2],\n",
    "    [4,5,0,2,0]\n",
    "]"
   ]
  },
  {
   "cell_type": "code",
   "execution_count": 36,
   "metadata": {},
   "outputs": [
    {
     "data": {
      "text/plain": [
       "[[None, None, None, None, None],\n",
       " [None, None, None, None, None],\n",
       " [None, None, None, None, None],\n",
       " [None, None, None, None, None],\n",
       " [None, None, None, None, None]]"
      ]
     },
     "execution_count": 36,
     "metadata": {},
     "output_type": "execute_result"
    }
   ],
   "source": [
    "x = [[None]*5]*5\n",
    "x"
   ]
  },
  {
   "cell_type": "code",
   "execution_count": 39,
   "metadata": {},
   "outputs": [
    {
     "data": {
      "text/plain": [
       "[[1000, None, None, None, None],\n",
       " [1000, None, None, None, None],\n",
       " [1000, None, None, None, None],\n",
       " [1000, None, None, None, None],\n",
       " [1000, None, None, None, None]]"
      ]
     },
     "execution_count": 39,
     "metadata": {},
     "output_type": "execute_result"
    }
   ],
   "source": [
    "x[0][0] = 1000\n",
    "x\n",
    "# 왜 맨왼쪽의 x[0][0]만 바뀌는게 아니라 다 바뀌지? ==> 같은 주소를 갖고 있기 때문...\n",
    "# x = [[None]*5]*5 에서 *이 그렇게 되게 했던것... 곱셈을 할때는 주의해야함!\n"
   ]
  },
  {
   "cell_type": "code",
   "execution_count": 40,
   "metadata": {},
   "outputs": [],
   "source": [
    "두번째밭 = [\n",
    "    [0,0,0,0,1],\n",
    "    [0,0,0,0,3],\n",
    "    [0,0,0,0,4],\n",
    "    [0,2,0,0,2],\n",
    "    [4,5,0,2,0]\n",
    "]"
   ]
  },
  {
   "cell_type": "code",
   "execution_count": 44,
   "metadata": {},
   "outputs": [],
   "source": [
    "#numpy 없이 직접 행렬을 회전시키려면?\n",
    "# 0,4 -> 0,0\n",
    "# 1,4 -> 0,1\n",
    "# 2,4 -> 0,2\n",
    "# 3,4 -> 0,3\n",
    "# 4,4 -> 0,4\n",
    "\n",
    "# 0,3 -> 1,0\n",
    "# 1,3 -> 1,1\n",
    "# 2,3 -> 1,2\n",
    "# 3,3 -> 1,3\n",
    "# 4,3 -> 1,4\n",
    "\n",
    "# 0,2 -> 2,0\n",
    "# 1,2 -> 2,1\n",
    "# 2,2 -> 2,2\n",
    "# 3,2 -> 2,3\n",
    "# 4,2 -> 2,4\n",
    "\n",
    "# 0,1 -> 1,0\n",
    "# 1,1 -> 1,1\n",
    "# 2,1 -> 1,2\n",
    "# 3,1 -> 1,3\n",
    "# 4,1 -> 1,4\n",
    "\n",
    "\n",
    "# 0,0 -> 4,0\n",
    "# 1,0 -> 4,1\n",
    "# 2,0 -> 4,2\n",
    "# 3,0 -> 4,3\n",
    "# 4,0 -> 4,4\n",
    "\n",
    "#이렇게 순회하려면 어떻게 해야할까?"
   ]
  },
  {
   "cell_type": "code",
   "execution_count": 49,
   "metadata": {},
   "outputs": [
    {
     "data": {
      "text/plain": [
       "[[1, 3, 4, 2, 0],\n",
       " [0, 0, 0, 0, 2],\n",
       " [0, 0, 0, 0, 0],\n",
       " [0, 0, 0, 2, 5],\n",
       " [0, 0, 0, 0, 4]]"
      ]
     },
     "execution_count": 49,
     "metadata": {},
     "output_type": "execute_result"
    }
   ],
   "source": [
    "for i in range(len(두번째밭)):\n",
    "    for j in range(len(두번째밭[0])):\n",
    "        sample[i][j] = 두번째밭[j][len(두번째밭)-1-i] # 5번째값이 없어서 len(두번째값)에서 -1을 하고 난후 -i를 한것\n",
    "    \n",
    "sample  # 90도 반시계방향으로 회전시킨 두번째밭 행렬이 됨\n",
    "        "
   ]
  },
  {
   "cell_type": "code",
   "execution_count": 51,
   "metadata": {},
   "outputs": [
    {
     "data": {
      "text/plain": [
       "[[3, 3, 4, 2, 0],\n",
       " [0, 0, 2, 0, 4],\n",
       " [0, 0, 2, 0, 2],\n",
       " [0, 0, 2, 2, 7],\n",
       " [0, 0, 2, 0, 6]]"
      ]
     },
     "execution_count": 51,
     "metadata": {},
     "output_type": "execute_result"
    }
   ],
   "source": [
    "for i in range(len(두번째밭)):\n",
    "    for j in range(len(두번째밭[0])):\n",
    "        sample[i][j] += 첫번째밭[i][j]\n",
    "\n",
    "sample"
   ]
  }
 ],
 "metadata": {
  "kernelspec": {
   "display_name": "Python 3",
   "language": "python",
   "name": "python3"
  },
  "language_info": {
   "codemirror_mode": {
    "name": "ipython",
    "version": 3
   },
   "file_extension": ".py",
   "mimetype": "text/x-python",
   "name": "python",
   "nbconvert_exporter": "python",
   "pygments_lexer": "ipython3",
   "version": "3.8.3"
  }
 },
 "nbformat": 4,
 "nbformat_minor": 4
}
