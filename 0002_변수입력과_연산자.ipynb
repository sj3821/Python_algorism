{
 "cells": [
  {
   "cell_type": "code",
   "execution_count": 4,
   "metadata": {},
   "outputs": [
    {
     "name": "stdout",
     "output_type": "stream",
     "text": [
      "숫자를 입력하세요 : 12493959\n",
      "출력 :  12493959\n"
     ]
    }
   ],
   "source": [
    "'''\n",
    "변수입력과 연산자\n",
    "'''\n",
    "\n",
    "a=input(\"숫자를 입력하세요 : \")\n",
    "print(\"출력 : \",a)"
   ]
  },
  {
   "cell_type": "code",
   "execution_count": 13,
   "metadata": {},
   "outputs": [
    {
     "name": "stdout",
     "output_type": "stream",
     "text": [
      "숫자를 입력하세요 : 23 883\n",
      "<class 'str'>\n",
      "<class 'str'>\n",
      "23883\n"
     ]
    }
   ],
   "source": [
    "a, b = input(\"숫자를 입력하세요 : \").split() \n",
    "#띄어쓰기를 분리자로 하여 입력값을 분리하여 앞의 값은 a로 뒤의 값은 b로 저장\n",
    "print(type(a))\n",
    "c=a+b\n",
    "print(type(c))\n",
    "print(c)"
   ]
  },
  {
   "cell_type": "code",
   "execution_count": 14,
   "metadata": {},
   "outputs": [
    {
     "name": "stdout",
     "output_type": "stream",
     "text": [
      "23 + 883 = 906\n"
     ]
    }
   ],
   "source": [
    "print(a,\"+\", b, \"=\", int(a)+int(b))"
   ]
  },
  {
   "cell_type": "code",
   "execution_count": 16,
   "metadata": {},
   "outputs": [
    {
     "name": "stdout",
     "output_type": "stream",
     "text": [
      "<class 'int'>\n",
      "<class 'int'>\n",
      "906\n"
     ]
    }
   ],
   "source": [
    "a=int(a)\n",
    "b=int(b)\n",
    "print(type(a))\n",
    "print(type(b))\n",
    "print(a+b)"
   ]
  },
  {
   "cell_type": "code",
   "execution_count": 8,
   "metadata": {},
   "outputs": [
    {
     "name": "stdout",
     "output_type": "stream",
     "text": [
      "숫자를 입력하세요 : 5 3\n"
     ]
    }
   ],
   "source": [
    "a,b = map(int,input(\"숫자를 입력하세요 : \").split())"
   ]
  },
  {
   "cell_type": "code",
   "execution_count": 9,
   "metadata": {
    "scrolled": true
   },
   "outputs": [
    {
     "name": "stdout",
     "output_type": "stream",
     "text": [
      "8\n",
      "2\n",
      "15\n",
      "1.6666666666666667\n",
      "1\n",
      "2\n",
      "125\n"
     ]
    }
   ],
   "source": [
    "print(a+b)\n",
    "print(a-b)\n",
    "print(a*b)\n",
    "print(a/b)  # 나누기\n",
    "print(a//b) # 나눈 몫의 정수값\n",
    "print(a%b)  # 나머지\n",
    "print(a**b) # 거듭제곱"
   ]
  },
  {
   "cell_type": "code",
   "execution_count": 12,
   "metadata": {},
   "outputs": [
    {
     "name": "stdout",
     "output_type": "stream",
     "text": [
      "<class 'float'>\n"
     ]
    }
   ],
   "source": [
    "a=4.3\n",
    "b=5\n",
    "\n",
    "c=a+b\n",
    "print(type(c))\n",
    "# 형이 다른 것끼리 연산을 하면 범위가 더 큰 자료형으로 변한다. \n",
    "# 그래서 c는 float이 됨"
   ]
  }
 ],
 "metadata": {
  "kernelspec": {
   "display_name": "Python 3",
   "language": "python",
   "name": "python3"
  },
  "language_info": {
   "codemirror_mode": {
    "name": "ipython",
    "version": 3
   },
   "file_extension": ".py",
   "mimetype": "text/x-python",
   "name": "python",
   "nbconvert_exporter": "python",
   "pygments_lexer": "ipython3",
   "version": "3.8.3"
  }
 },
 "nbformat": 4,
 "nbformat_minor": 4
}
