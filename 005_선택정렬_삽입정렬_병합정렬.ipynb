{
 "cells": [
  {
   "cell_type": "code",
   "execution_count": 2,
   "metadata": {},
   "outputs": [
    {
     "name": "stdout",
     "output_type": "stream",
     "text": [
      "[5]\n",
      "[10, 66, 77, 54, 32, 11, 15]\n",
      "-----------\n",
      "[5, 10]\n",
      "[66, 77, 54, 32, 11, 15]\n",
      "-----------\n",
      "[5, 10, 11]\n",
      "[66, 77, 54, 32, 15]\n",
      "-----------\n",
      "[5, 10, 11, 15]\n",
      "[66, 77, 54, 32]\n",
      "-----------\n",
      "[5, 10, 11, 15, 32]\n",
      "[66, 77, 54]\n",
      "-----------\n",
      "[5, 10, 11, 15, 32, 54]\n",
      "[66, 77]\n",
      "-----------\n",
      "[5, 10, 11, 15, 32, 54, 66]\n",
      "[77]\n",
      "-----------\n",
      "[5, 10, 11, 15, 32, 54, 66, 77]\n",
      "[]\n",
      "-----------\n",
      "최종결과\n",
      "[5, 10, 11, 15, 32, 54, 66, 77]\n",
      "[]\n"
     ]
    }
   ],
   "source": [
    "#선택정렬\n",
    "입력값 = [5, 10, 66, 77, 54, 32, 11, 15]\n",
    "정렬된리스트 = []\n",
    "\n",
    "while 입력값:\n",
    "    정렬된리스트.append(min(입력값))\n",
    "    입력값.pop(입력값.index(min(입력값)))\n",
    "    print(정렬된리스트)\n",
    "    print(입력값)\n",
    "    print('-----------')\n",
    "print('최종결과')    \n",
    "print(정렬된리스트)\n",
    "print(입력값)"
   ]
  },
  {
   "cell_type": "code",
   "execution_count": 4,
   "metadata": {},
   "outputs": [
    {
     "name": "stdout",
     "output_type": "stream",
     "text": [
      "4\n"
     ]
    }
   ],
   "source": [
    "입력값 = [5, 10, 66, 77, 1, 54, 32, 11, 15, 2]\n",
    "\n",
    "def 최솟값(l):\n",
    "    최소 = l[0]\n",
    "    count = 0\n",
    "    for i in l:\n",
    "        if 최소 > i:\n",
    "            최소 = i\n",
    "            index = count\n",
    "        count +=1\n",
    "    return index\n",
    "\n",
    "print(최솟값(입력값))\n"
   ]
  },
  {
   "cell_type": "code",
   "execution_count": 9,
   "metadata": {},
   "outputs": [
    {
     "name": "stdout",
     "output_type": "stream",
     "text": [
      "4\n"
     ]
    }
   ],
   "source": [
    "입력값 = [5, 10, 66, 77, 1, 54, 32, 11, 15, 2]\n",
    "\n",
    "def 최솟값_인덱스(l):\n",
    "    비교값 = l[0]\n",
    "    for i in range(len(l)):\n",
    "        if l[i] > 비교값:\n",
    "            인덱스 = i\n",
    "    return 인덱스\n",
    "print(최솟값(입력값))\n"
   ]
  },
  {
   "cell_type": "code",
   "execution_count": 10,
   "metadata": {},
   "outputs": [],
   "source": [
    "# 삽입정렬\n",
    "# 입력값 = [5, 10, 66, 77, 54, 32, 11, 15]\n",
    "# 정렬된리스트 = []\n",
    "\n",
    "# 입력값 = [10, 66, 77, 54, 32, 11, 15]\n",
    "# 정렬된리스트 = [5]\n",
    "\n",
    "# 입력값 = [66, 77, 54, 32, 11, 15]\n",
    "# 정렬된리스트 = [5, 10]\n",
    "\n",
    "# 입력값 = [77, 54, 32, 11, 15]\n",
    "# 정렬된리스트 = [5, 10, 66]"
   ]
  },
  {
   "cell_type": "code",
   "execution_count": 15,
   "metadata": {},
   "outputs": [
    {
     "name": "stdout",
     "output_type": "stream",
     "text": [
      "[5, 10, 11, 15, 32, 54, 66, 77]\n"
     ]
    }
   ],
   "source": [
    "입력값 = [5, 10, 66, 77, 54, 32, 11, 15]\n",
    "정렬된리스트 = []\n",
    "\n",
    "def 삽입값이_들어갈_인덱스(정렬된리스트, 삽입값):\n",
    "    for i in range(len(정렬된리스트)):\n",
    "        if 삽입값 < 정렬된리스트[i]:\n",
    "            return i\n",
    "    return len(정렬된리스트)\n",
    "\n",
    "while 입력값 : \n",
    "    삽입값 = 입력값.pop(0)\n",
    "    인덱스 = 삽입값이_들어갈_인덱스(정렬된리스트, 삽입값)\n",
    "    정렬된리스트.insert(인덱스, 삽입값)\n",
    "    \n",
    "print(정렬된리스트)"
   ]
  },
  {
   "cell_type": "markdown",
   "metadata": {},
   "source": [
    "<pre>\n",
    "# 병합정렬(O(n log n))\n",
    "# 분할, 정복\n",
    "\n",
    "입력값 = [5, 10, 66, 77, 54, 32, 11, 15]\n",
    "전체인덱스 = 7\n",
    "중간값 = 7 // 2 #3\n",
    "입력값[:중간값+1]\n",
    "입력값[중간값+1:]\n",
    "\n",
    "[5, 10, 66, 77, 54, 32, 11, 15]\n",
    "[5, 10, 66, 77], [54, 32, 11, 15]\n",
    "[5, 10], [66, 77], [54, 32], [11, 15]\n",
    "[5], [10], [66], [77], [54], [32], [11], [15]\n",
    "[5, 10], [66, 77], [32, 54], [11, 15]\n",
    "[5, 10, 66, 77], [11, 15, 32, 54]\n",
    "[5, 10, 11, 15, 32, 54, 66, 77]\n"
   ]
  },
  {
   "cell_type": "code",
   "execution_count": 32,
   "metadata": {
    "scrolled": true
   },
   "outputs": [
    {
     "name": "stdout",
     "output_type": "stream",
     "text": [
      "[5, 10, 11, 15, 32, 54, 66, 77]\n"
     ]
    }
   ],
   "source": [
    "def 병합정렬(입력리스트):\n",
    "    #분할하는 곳\n",
    "    입력리스트의길이 = len(입력리스트)\n",
    "    결과값=[]\n",
    "    if 입력리스트의길이 <= 1:\n",
    "        return 입력리스트\n",
    "    중간값 = 입력리스트의길이 // 2\n",
    "    그룹_하나 = 병합정렬(입력리스트[:중간값])\n",
    "    그룹_둘 = 병합정렬(입력리스트[중간값:])\n",
    "    \n",
    "    #정복하는 곳\n",
    "    while 그룹_하나 and 그룹_둘 :\n",
    "        if 그룹_하나[0] < 그룹_둘[0]:\n",
    "            결과값.append(그룹_하나.pop(0))\n",
    "        else:\n",
    "            결과값.append(그룹_둘.pop(0))\n",
    "            \n",
    "    while 그룹_하나:\n",
    "        결과값.append(그룹_하나.pop(0))\n",
    "        \n",
    "    while 그룹_둘:\n",
    "        결과값.append(그룹_둘.pop(0))\n",
    "    # '그룹_하나 : {}, 그룹_둘 : {}\\n'.format(그룹_하나, 그룹_둘)\n",
    "    \n",
    "    return 결과값\n",
    "\n",
    "\n",
    "\n",
    "print(병합정렬([5, 10, 66, 77, 54, 32, 11, 15]))"
   ]
  }
 ],
 "metadata": {
  "kernelspec": {
   "display_name": "Python 3",
   "language": "python",
   "name": "python3"
  },
  "language_info": {
   "codemirror_mode": {
    "name": "ipython",
    "version": 3
   },
   "file_extension": ".py",
   "mimetype": "text/x-python",
   "name": "python",
   "nbconvert_exporter": "python",
   "pygments_lexer": "ipython3",
   "version": "3.8.3"
  }
 },
 "nbformat": 4,
 "nbformat_minor": 4
}
