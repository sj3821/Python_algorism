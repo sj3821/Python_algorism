{
 "cells": [
  {
   "cell_type": "code",
   "execution_count": 1,
   "metadata": {},
   "outputs": [
    {
     "data": {
      "text/plain": [
       "\"\\n동물 = ['척추동물', '어류', '척추동물', '무척추동물', '파충류', '척추동물', '어류', '파충류']\\n\\n1회 : ['척추동물'] #False\\n2회 : ['척추동물','어류'] #False\\n3회 : ['어류', '척추동물'] #HIT\\n4회 : ['어류', '척추동물', '무척추동물'] #False\\n5회 : ['척추동물', '무척추동물', '파충류'] #False\\n6회 : ['무척추동물', '파충류', '척추동물'] #HIT\\n7회 : ['파충류', '척추동물', '어류'] #False\\n8회 : ['척추동물', '어류', '파충류'] #False\\n\\n\""
      ]
     },
     "execution_count": 1,
     "metadata": {},
     "output_type": "execute_result"
    }
   ],
   "source": [
    "'''\n",
    "동물 = ['척추동물', '어류', '척추동물', '무척추동물', '파충류', '척추동물', '어류', '파충류']\n",
    "\n",
    "1회 : ['척추동물'] #False\n",
    "2회 : ['척추동물','어류'] #False\n",
    "3회 : ['어류', '척추동물'] #HIT\n",
    "4회 : ['어류', '척추동물', '무척추동물'] #False\n",
    "5회 : ['척추동물', '무척추동물', '파충류'] #False\n",
    "6회 : ['무척추동물', '파충류', '척추동물'] #HIT\n",
    "7회 : ['파충류', '척추동물', '어류'] #False\n",
    "8회 : ['척추동물', '어류', '파충류'] #False\n",
    "\n",
    "'''"
   ]
  },
  {
   "cell_type": "code",
   "execution_count": 4,
   "metadata": {},
   "outputs": [
    {
     "data": {
      "text/plain": [
       "'5분 3초'"
      ]
     },
     "execution_count": 4,
     "metadata": {},
     "output_type": "execute_result"
    }
   ],
   "source": [
    "동물 = ['척추동물', '어류', '척추동물', '무척추동물', '파충류', '척추동물', '어류', '파충류']\n",
    "\n",
    "def solution(동물, 자리):\n",
    "    의자 = [] * 자리\n",
    "    answer = 0\n",
    "    \n",
    "    for i in 동물:\n",
    "        if len(의자) < 3: # 의자가 3 미만인 경우\n",
    "            if i in 의자: # 의자에 i(입력값)이 있으면\n",
    "                히트된페이지=의자.pop(의자.index(i)) # i가 값인 의자를 index 메서드로 찾아서 pop 한다.\n",
    "                의자.append(히트된페이지) #(의자에 앉혀진 종이 2개 이하인데) 기존의 의자와 동일한 종이 들어온 경우 히트된페이지된 페이지를 pop한다\n",
    "                answer +=1\n",
    "            else: #의자에 앉혀진 종이 2개 이하인데, 기존의 종과 다를 경우 ( 그냥 남은 의자에 앉으면 됨 )\n",
    "                의자.append(i) #의자에 지금 들어온 종을 추가함\n",
    "                answer +=60\n",
    "        else: # 의자가 3개인 경우\n",
    "            if i in 의자 : #의자에 i(입력값)이 있으면\n",
    "                히트된페이지=의자.pop(의자.index(i))\n",
    "                의자.append(히트된페이지)\n",
    "                answer +=1\n",
    "            else: #3이 다 꽉차 있는데, 같은 종이 없을 때\n",
    "                의자.pop(0) # 최근 들어온적 없는 종이 0에 있음\n",
    "                의자.append(i) # 지금 들어온 종이 의자에 들어감\n",
    "                answer +=60\n",
    "                \n",
    "    return f'{answer//60}분 {answer%60}초'\n",
    "\n",
    "solution(동물,3)"
   ]
  }
 ],
 "metadata": {
  "kernelspec": {
   "display_name": "Python 3",
   "language": "python",
   "name": "python3"
  },
  "language_info": {
   "codemirror_mode": {
    "name": "ipython",
    "version": 3
   },
   "file_extension": ".py",
   "mimetype": "text/x-python",
   "name": "python",
   "nbconvert_exporter": "python",
   "pygments_lexer": "ipython3",
   "version": "3.8.3"
  }
 },
 "nbformat": 4,
 "nbformat_minor": 4
}
