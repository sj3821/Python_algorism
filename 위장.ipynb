{
 "cells": [
  {
   "cell_type": "code",
   "execution_count": 1,
   "metadata": {},
   "outputs": [],
   "source": [
    "# https://programmers.co.kr/learn/courses/30/lessons/42578\n",
    "\n",
    "clothes=[['yellow_hat', 'headgear'], ['blue_sunglasses', 'eyewear'], ['green_turban', 'headgear']]"
   ]
  },
  {
   "cell_type": "code",
   "execution_count": 3,
   "metadata": {},
   "outputs": [
    {
     "name": "stdout",
     "output_type": "stream",
     "text": [
      "c Counter({'headgear': 2, 'eyewear': 1})\n",
      "answer 3\n",
      "answer 6\n",
      "final answer 5\n"
     ]
    },
    {
     "data": {
      "text/plain": [
       "5"
      ]
     },
     "execution_count": 3,
     "metadata": {},
     "output_type": "execute_result"
    }
   ],
   "source": [
    "from collections import Counter\n",
    "# collections에서 Counter 함수를 import 해온다\n",
    "def solution(clothes):\n",
    "    answer = 1 \n",
    "    c = Counter([x[1] for x in clothes]) \n",
    "    print(\"c\", c)\n",
    "    # 변수 c에는 clothes를 하나씩 꺼내서 x[1]을 기준으로 카운터 한다. \n",
    "    #x[0]에는 yellow_hat, blue_sunglasses 같은 의상이름이 있고, x[1]에는 headgear,eyewear 같은 의상종류가 있다\n",
    "    #의상종류를 기준으로 카운터함수를 사용하면 \n",
    "    # 변수 c에는 Counter({\"headgear\":2,\"eyewear\":1}) 이렇게 key:value로 카운팅된 데이터가 들어간다\n",
    "    for v in c.values(): # c의 value를 가져와서 하나씩 꺼내서 반복한다\n",
    "        answer *= (v+1)\n",
    "        print(\"answer\", answer)\n",
    "        # v가 2 일때 answer*=(2+1)\n",
    "        # v가 1 일때 answer*=(1+1)\n",
    "    answer -= 1 # 1을 빼주는 이유는 아무것도 입지 않은 경우의 수를 빼주는 것이다\n",
    "    print(\"final answer\", answer)\n",
    "    return answer\n",
    "\n",
    "# 의상 종류가 3개면 각각 부위에서 안입은 것, 첫번째, 두번째, 세번째  총 4개가 선택이 가능하다\n",
    "# 부위별로 가능한 선택 수를 곱하면 모든 조합이 나오는데 최소 하나는 입어야 하기 때문에\n",
    "# 아무것도 하나도 안입은 경우의 수 한 개를 차감해야 한다 그래서 마지막에 answer-=1을 해준다.\n",
    "\n",
    "solution(clothes)"
   ]
  }
 ],
 "metadata": {
  "kernelspec": {
   "display_name": "Python 3",
   "language": "python",
   "name": "python3"
  },
  "language_info": {
   "codemirror_mode": {
    "name": "ipython",
    "version": 3
   },
   "file_extension": ".py",
   "mimetype": "text/x-python",
   "name": "python",
   "nbconvert_exporter": "python",
   "pygments_lexer": "ipython3",
   "version": "3.8.3"
  }
 },
 "nbformat": 4,
 "nbformat_minor": 4
}
