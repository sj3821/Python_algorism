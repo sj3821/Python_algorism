{
 "cells": [
  {
   "cell_type": "markdown",
   "metadata": {},
   "source": [
    "## 문제 접근 방법\n",
    "\n",
    "1. 반복문의 경우는 Bottom-up(작은 문제에서 출발)\n",
    "2. 재귀의 경우는 Top-down (큰 문제에서 출발)\n",
    "\n",
    "* 재귀의 경우에는 꼭 종료조건이 있어야 한다. (무한반복될 수 있어서)"
   ]
  },
  {
   "cell_type": "code",
   "execution_count": 2,
   "metadata": {},
   "outputs": [
    {
     "name": "stdout",
     "output_type": "stream",
     "text": [
      "55\n"
     ]
    }
   ],
   "source": [
    "# 0부터 10까지 올라가면서 더한 것 \n",
    "x = 0\n",
    "for i in range(11) :\n",
    "    x += i\n",
    "print(x)"
   ]
  },
  {
   "cell_type": "code",
   "execution_count": 4,
   "metadata": {},
   "outputs": [
    {
     "name": "stdout",
     "output_type": "stream",
     "text": [
      "55\n"
     ]
    }
   ],
   "source": [
    "# 10부터 0까지 내려가면서 더한 것 \n",
    "def f(n):\n",
    "    if n <=1:\n",
    "        return 1\n",
    "    else:\n",
    "        return n + f(n-1)\n",
    "print(f(10))"
   ]
  },
  {
   "cell_type": "code",
   "execution_count": 5,
   "metadata": {},
   "outputs": [
    {
     "name": "stdout",
     "output_type": "stream",
     "text": [
      "##hi\n",
      "##hi\n",
      "hello world\n",
      "##hi\n",
      "##hi\n",
      "hello world\n",
      "##exit\n"
     ]
    }
   ],
   "source": [
    "#무한루프 - 반복문\n",
    "while True:\n",
    "    if input('##') == 'exit':\n",
    "        break\n",
    "    if input('##') == 'hi':\n",
    "        print('hello world')\n",
    "    else : \n",
    "        continue"
   ]
  },
  {
   "cell_type": "code",
   "execution_count": 6,
   "metadata": {},
   "outputs": [
    {
     "name": "stdout",
     "output_type": "stream",
     "text": [
      "##s\n",
      "##d\n",
      "##f\n",
      "##e\n",
      "##hi\n",
      "##hi\n",
      "hello world\n",
      "##hi\n",
      "##hi\n",
      "hello world\n",
      "##hi\n",
      "##hi\n",
      "hello world\n",
      "##exit\n"
     ]
    }
   ],
   "source": [
    "#무한루프 - 재귀함수\n",
    "def console():\n",
    "    if input('##') == 'exit':\n",
    "        return None\n",
    "    if input('##') == 'hi':\n",
    "        print('hello world')\n",
    "    console()\n",
    "console()\n",
    "\n",
    "#무한루프도 구현할 수 있다. But 꼭!!! 종료조건을 넣어야 한다."
   ]
  },
  {
   "cell_type": "code",
   "execution_count": 12,
   "metadata": {},
   "outputs": [
    {
     "name": "stdout",
     "output_type": "stream",
     "text": [
      "2진수로 바꿀 숫자를 입력하세요:11\n",
      "1011\n"
     ]
    }
   ],
   "source": [
    "#2진수 구하기 - 반복문\n",
    "# print(bin(11)[2:])\n",
    "# print(oct(11))\n",
    "# print(hex(11))\n",
    "\n",
    "\n",
    "x = int(input('2진수로 바꿀 숫자를 입력하세요:'))\n",
    "result = ''\n",
    "\n",
    "while True:\n",
    "    if x % 2 == 0:\n",
    "        result += '0'\n",
    "    else:\n",
    "        result += '1'\n",
    "    x = x // 2\n",
    "    if x == 1 or x == 0 :\n",
    "        result += str(x)\n",
    "        print(result[::-1])\n",
    "        break"
   ]
  },
  {
   "cell_type": "markdown",
   "metadata": {},
   "source": [
    "1. 2     11     1\n",
    "2. 2      5     1\n",
    "3. 2      2     0\n",
    "4.        1"
   ]
  },
  {
   "cell_type": "code",
   "execution_count": 14,
   "metadata": {},
   "outputs": [
    {
     "data": {
      "text/plain": [
       "'1011'"
      ]
     },
     "execution_count": 14,
     "metadata": {},
     "output_type": "execute_result"
    }
   ],
   "source": [
    "def 이진수구하기(입력값):\n",
    "    if 입력값 < 2 :\n",
    "        return str(입력값)\n",
    "    else:\n",
    "        return str(이진수구하기(입력값//2)) + str(입력값 % 2)\n",
    "        \n",
    "이진수구하기(11)"
   ]
  },
  {
   "cell_type": "markdown",
   "metadata": {},
   "source": [
    "이진수구하기(11) -> str(이진수구하기(5)) + str(1)   -> 1011 <br>\n",
    "이진수구하기(5)  -> str(이진수구하기(2)) + str(1)   -> 101 <br>\n",
    "이진수구하기(2)  -> str(이진수구하기(1)) + str(0)   -> 10 <br>\n",
    "이진수구하기(1)  -> 1 "
   ]
  },
  {
   "cell_type": "code",
   "execution_count": 17,
   "metadata": {},
   "outputs": [
    {
     "name": "stdout",
     "output_type": "stream",
     "text": [
      "i\n",
      "j\n",
      "u\n",
      "s\n",
      "e\n",
      "e\n",
      "l\n",
      "None\n"
     ]
    }
   ],
   "source": [
    "def 문자열뒤집기(문자열):\n",
    "    if 문자열 == '' :\n",
    "        return None\n",
    "    else :\n",
    "        문자열뒤집기(문자열[1:])\n",
    "        print(문자열[0])\n",
    "        \n",
    "print(문자열뒤집기('leesuji'))"
   ]
  },
  {
   "cell_type": "code",
   "execution_count": 21,
   "metadata": {},
   "outputs": [
    {
     "name": "stdout",
     "output_type": "stream",
     "text": [
      "leesuji\n",
      "ijuseel\n"
     ]
    }
   ],
   "source": [
    "result = ''\n",
    "result1 = ''\n",
    "for i in 'leesuji':\n",
    "    result+= i\n",
    "    result1 = i + result1\n",
    "print(result)\n",
    "print(result1)"
   ]
  },
  {
   "cell_type": "code",
   "execution_count": 23,
   "metadata": {},
   "outputs": [
    {
     "name": "stdout",
     "output_type": "stream",
     "text": [
      "8\n"
     ]
    }
   ],
   "source": [
    "x=0\n",
    "for i in '2231':\n",
    "    x += int(i)\n",
    "print(x)"
   ]
  },
  {
   "cell_type": "code",
   "execution_count": 28,
   "metadata": {},
   "outputs": [
    {
     "name": "stdout",
     "output_type": "stream",
     "text": [
      "8\n"
     ]
    }
   ],
   "source": [
    "def 숫자더하기(문자열):\n",
    "    if 문자열 == '' :\n",
    "        return 0\n",
    "    else:\n",
    "        return int(문자열[0])+int(숫자더하기(문자열[1:]))\n",
    "    \n",
    "print(숫자더하기('2231'))"
   ]
  }
 ],
 "metadata": {
  "kernelspec": {
   "display_name": "Python 3",
   "language": "python",
   "name": "python3"
  },
  "language_info": {
   "codemirror_mode": {
    "name": "ipython",
    "version": 3
   },
   "file_extension": ".py",
   "mimetype": "text/x-python",
   "name": "python",
   "nbconvert_exporter": "python",
   "pygments_lexer": "ipython3",
   "version": "3.8.3"
  }
 },
 "nbformat": 4,
 "nbformat_minor": 4
}
