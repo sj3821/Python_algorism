{
 "cells": [
  {
   "cell_type": "code",
   "execution_count": 2,
   "metadata": {},
   "outputs": [],
   "source": [
    "# cross = [[[1, 5, 0, 1, 0],\n",
    "#           [0, 1, 6, 7, 0],\n",
    "#           [6, 2, 3, 2, 1],\n",
    "#           [1, 0, 1, 1, 1],\n",
    "#           [0, 2, 0, 1, 0]],\n",
    "#          [[0, 3, 0, 1, 0],\n",
    "#           [1, 2, 5, 4, 4],\n",
    "#           [0, 0, 3, 0, 0],\n",
    "#           [1, 2, 5, 0, 1],\n",
    "#           [0, 0, 0, 0, 0]],\n",
    "#          [[3, 0, 1, 1, 8],\n",
    "#           [5, 0, 4, 5, 4],\n",
    "#           [1, 5, 0, 5, 1],\n",
    "#           [1, 2, 1, 0, 1],\n",
    "#           [0, 2, 5, 1, 1]],\n",
    "#          [[1, 0, 3, 3, 3],\n",
    "#           [5, 1, 2, 2, 4],\n",
    "#           [1, 5, 1, 2, 4],\n",
    "#           [4, 4, 1, 1, 1],\n",
    "#           [4, 4, 1, 1, 1]],\n",
    "#          [[1, 2, 0, 3, 3],\n",
    "#           [1, 2, 0, 2, 4],\n",
    "#           [1, 2, 0, 2, 4],\n",
    "#           [4, 2, 0, 0, 1],\n",
    "#           [8, 4, 1, 1, 0]],\n",
    "#          [[1, 0, 3, 0, 0],\n",
    "#           [1, 1, 0, 2, 4],\n",
    "#           [0, 0, 1, 2, 4],\n",
    "#           [4, 0, 1, 0, 1],\n",
    "#           [0, 0, 1, 0, 1]]]\n",
    "\n",
    "\n",
    "cross = [[[3, 0, 1, 1, 8],\n",
    "          [5, 0, 4, 5, 4],\n",
    "          [1, 5, 0, 5, 1],\n",
    "          [1, 2, 1, 0, 1],\n",
    "          [0, 2, 5, 1, 1]],\n",
    "         [[1, 2, 0, 3, 3],\n",
    "          [1, 2, 0, 2, 4],\n",
    "          [1, 2, 0, 2, 4],\n",
    "          [4, 2, 0, 0, 1],\n",
    "          [8, 4, 1, 1, 0]]]"
   ]
  },
  {
   "cell_type": "code",
   "execution_count": 6,
   "metadata": {},
   "outputs": [
    {
     "data": {
      "text/plain": [
       "[[3, 0, 1, 1, 8],\n",
       " [5, 0, 4, 5, 4],\n",
       " [1, 5, 0, 5, 1],\n",
       " [1, 2, 1, 0, 1],\n",
       " [0, 2, 5, 1, 1],\n",
       " [1, 2, 0, 3, 3],\n",
       " [1, 2, 0, 2, 4],\n",
       " [1, 2, 0, 2, 4],\n",
       " [4, 2, 0, 0, 1],\n",
       " [8, 4, 1, 1, 0]]"
      ]
     },
     "execution_count": 6,
     "metadata": {},
     "output_type": "execute_result"
    }
   ],
   "source": [
    "cross_ = cross[0] + cross[1]\n",
    "cross_"
   ]
  },
  {
   "cell_type": "code",
   "execution_count": 8,
   "metadata": {},
   "outputs": [
    {
     "data": {
      "text/plain": [
       "[3, 0, 1, 1, 8]"
      ]
     },
     "execution_count": 8,
     "metadata": {},
     "output_type": "execute_result"
    }
   ],
   "source": [
    "cross_[0]"
   ]
  },
  {
   "cell_type": "code",
   "execution_count": 10,
   "metadata": {},
   "outputs": [
    {
     "data": {
      "text/plain": [
       "8"
      ]
     },
     "execution_count": 10,
     "metadata": {},
     "output_type": "execute_result"
    }
   ],
   "source": [
    "cross_[0][4]"
   ]
  },
  {
   "cell_type": "code",
   "execution_count": 12,
   "metadata": {},
   "outputs": [
    {
     "name": "stdout",
     "output_type": "stream",
     "text": [
      "4\n",
      "3\n",
      "2\n",
      "1\n",
      "0\n"
     ]
    }
   ],
   "source": [
    "for i in range(4, -1, -1):\n",
    "    print(i)"
   ]
  },
  {
   "cell_type": "code",
   "execution_count": 15,
   "metadata": {},
   "outputs": [
    {
     "name": "stdout",
     "output_type": "stream",
     "text": [
      "0 4 8\n",
      "0 3 1\n",
      "0 2 1\n",
      "0 1 0\n",
      "0 0 3\n",
      "1 4 4\n",
      "1 3 5\n",
      "1 2 4\n",
      "1 1 0\n",
      "1 0 5\n",
      "2 4 1\n",
      "2 3 5\n",
      "2 2 0\n",
      "2 1 5\n",
      "2 0 1\n",
      "3 4 1\n",
      "3 3 0\n",
      "3 2 1\n",
      "3 1 2\n",
      "3 0 1\n",
      "4 4 1\n",
      "4 3 1\n",
      "4 2 5\n",
      "4 1 2\n",
      "4 0 0\n",
      "5 4 3\n",
      "5 3 3\n",
      "5 2 0\n",
      "5 1 2\n",
      "5 0 1\n",
      "6 4 4\n",
      "6 3 2\n",
      "6 2 0\n",
      "6 1 2\n",
      "6 0 1\n",
      "7 4 4\n",
      "7 3 2\n",
      "7 2 0\n",
      "7 1 2\n",
      "7 0 1\n",
      "8 4 1\n",
      "8 3 0\n",
      "8 2 0\n",
      "8 1 2\n",
      "8 0 4\n",
      "9 4 0\n",
      "9 3 1\n",
      "9 2 1\n",
      "9 1 4\n",
      "9 0 8\n"
     ]
    }
   ],
   "source": [
    "for i in range(len(cross_)):\n",
    "    for j in range(4, -1, -1):\n",
    "        print(i,j,cross_[i][j])"
   ]
  },
  {
   "cell_type": "code",
   "execution_count": 38,
   "metadata": {},
   "outputs": [],
   "source": [
    "# 연습\n",
    "c = [[3, 0, 1, 1, 8],\n",
    "     [5, 0, 4, 5, 4],\n",
    "     [1, 5, 0, 5, 1],\n",
    "     [1, 2, 1, 0, 1],\n",
    "     [8, 4, 1, 1, 0]]\n",
    "\n",
    "가중치누적값 = [[0 for i in range(5)] for i in range(5)]\n",
    "# 가중치누적값"
   ]
  },
  {
   "cell_type": "code",
   "execution_count": 20,
   "metadata": {},
   "outputs": [
    {
     "data": {
      "text/plain": [
       "[[[None, None, None], [None, None, None], [None, None, None]],\n",
       " [[None, None, None], [None, None, None], [None, None, None]]]"
      ]
     },
     "execution_count": 20,
     "metadata": {},
     "output_type": "execute_result"
    }
   ],
   "source": [
    "x=[[[None]*3]*3]*2   # 왜 곱하기를 하면 안됐었지???\n",
    "x"
   ]
  },
  {
   "cell_type": "code",
   "execution_count": 22,
   "metadata": {},
   "outputs": [
    {
     "data": {
      "text/plain": [
       "[[[1000, None, None], [1000, None, None], [1000, None, None]],\n",
       " [[1000, None, None], [1000, None, None], [1000, None, None]]]"
      ]
     },
     "execution_count": 22,
     "metadata": {},
     "output_type": "execute_result"
    }
   ],
   "source": [
    "x[0][0][0] = 1000   # 곱하기로 만들면 값을 다 공유해서... 꼭 순회해서 만들기!\n",
    "x"
   ]
  },
  {
   "cell_type": "code",
   "execution_count": 39,
   "metadata": {},
   "outputs": [
    {
     "data": {
      "text/plain": [
       "[[3, 3, 4, 5, 13],\n",
       " [8, 3, 7, 10, 14],\n",
       " [9, 8, 7, 12, 13],\n",
       " [10, 10, 8, 8, 9],\n",
       " [18, 14, 9, 9, 9]]"
      ]
     },
     "execution_count": 39,
     "metadata": {},
     "output_type": "execute_result"
    }
   ],
   "source": [
    "for i in range(5):\n",
    "    for j in range(5):\n",
    "        if i == 0 and j == 0:\n",
    "            가중치누적값[0][0] = c[0][0]\n",
    "        elif i == 0:\n",
    "            가중치누적값[i][j] = 가중치누적값[i][j-1] + c[i][j]\n",
    "        elif j == 0:\n",
    "            가중치누적값[i][j] = 가중치누적값[i-1][j] + c[i][j]\n",
    "        else:\n",
    "            가중치누적값[i][j] = min(가중치누적값[i][j-1],가중치누적값[i-1][j]) + c[i][j]\n",
    "    \n",
    "가중치누적값"
   ]
  },
  {
   "cell_type": "code",
   "execution_count": 36,
   "metadata": {},
   "outputs": [
    {
     "data": {
      "text/plain": [
       "([[3, 0, 1, 1, 8],\n",
       "  [5, 0, 4, 5, 4],\n",
       "  [1, 5, 0, 5, 1],\n",
       "  [1, 2, 1, 0, 1],\n",
       "  [8, 4, 1, 1, 0]],\n",
       " [[3, 3, 4, 5, 13],\n",
       "  [8, 3, 7, 10, 14],\n",
       "  [9, 8, 7, 12, 13],\n",
       "  [10, 10, 8, 8, 9],\n",
       "  [18, 14, 9, 9, 9]])"
      ]
     },
     "execution_count": 36,
     "metadata": {},
     "output_type": "execute_result"
    }
   ],
   "source": [
    "c, 가중치누적값"
   ]
  },
  {
   "cell_type": "code",
   "execution_count": 44,
   "metadata": {},
   "outputs": [
    {
     "data": {
      "text/plain": [
       "[[[0, 0], [0, 0], [0, 1], [0, 2], [0, 3]],\n",
       " [[0, 0], [0, 1], [1, 1], [0, 3], [1, 3]],\n",
       " [[1, 0], [1, 1], [1, 2], [2, 2], [2, 3]],\n",
       " [[2, 0], [2, 1], [2, 2], [3, 2], [3, 3]],\n",
       " [[3, 0], [3, 1], [3, 2], [3, 3], [4, 3]]]"
      ]
     },
     "execution_count": 44,
     "metadata": {},
     "output_type": "execute_result"
    }
   ],
   "source": [
    "c = [[3, 0, 1, 1, 8],\n",
    "     [5, 0, 4, 5, 4],\n",
    "     [1, 5, 0, 5, 1],\n",
    "     [1, 2, 1, 0, 1],\n",
    "     [8, 4, 1, 1, 0]]\n",
    "\n",
    "가중치누적값 = [[0 for i in range(5)] for i in range(5)]\n",
    "좌표저장 = [[[0,0] for i in range(5)] for j in range(5)]\n",
    "\n",
    "for i in range(5):\n",
    "    for j in range(5):\n",
    "        if i == 0 and j == 0:\n",
    "            가중치누적값[0][0] = c[0][0]\n",
    "            좌표저장[i][j] = [i,j]\n",
    "        elif i == 0:\n",
    "            가중치누적값[i][j] = 가중치누적값[i][j-1] + c[i][j]\n",
    "            좌표저장[i][j] = [i,j-1]\n",
    "        elif j == 0:\n",
    "            가중치누적값[i][j] = 가중치누적값[i-1][j] + c[i][j]\n",
    "            좌표저장[i][j] = [i-1,j]\n",
    "        else:\n",
    "            #가중치누적값[i][j] = min(가중치누적값[i][j-1],가중치누적값[i-1][j]) + c[i][j]\n",
    "            if 가중치누적값[i][j-1] > 가중치누적값[i-1][j]:\n",
    "                가중치누적값[i][j] = 가중치누적값[i-1][j] + c[i][j]\n",
    "                좌표저장[i][j] = [i-1,j]\n",
    "            else:\n",
    "                가중치누적값[i][j] = 가중치누적값[i][j-1] + c[i][j]\n",
    "                좌표저장[i][j] = [i,j-1]\n",
    "            \n",
    "    \n",
    "좌표저장 #참조하고 있는 좌표를 표시\n",
    "#결과값을 보았을 때 밑에서부터 0,0 좌표로 따라가면 될 것 같음!"
   ]
  },
  {
   "cell_type": "code",
   "execution_count": 45,
   "metadata": {},
   "outputs": [
    {
     "data": {
      "text/plain": [
       "[[[0, 0], [0, 0], [0, 0], [0, 0], [0, 0]],\n",
       " [[0, 0], [0, 0], [0, 0], [0, 0], [0, 0]],\n",
       " [[0, 0], [0, 0], [0, 0], [0, 0], [0, 0]],\n",
       " [[0, 0], [0, 0], [0, 0], [0, 0], [0, 0]],\n",
       " [[0, 0], [0, 0], [0, 0], [0, 0], [0, 0]],\n",
       " [[0, 0], [0, 0], [0, 0], [0, 0], [0, 0]],\n",
       " [[0, 0], [0, 0], [0, 0], [0, 0], [0, 0]],\n",
       " [[0, 0], [0, 0], [0, 0], [0, 0], [0, 0]],\n",
       " [[0, 0], [0, 0], [0, 0], [0, 0], [0, 0]],\n",
       " [[0, 0], [0, 0], [0, 0], [0, 0], [0, 0]]]"
      ]
     },
     "execution_count": 45,
     "metadata": {},
     "output_type": "execute_result"
    }
   ],
   "source": [
    "[[[0,0] for i in range(5)] for j in range(len(cross_))]"
   ]
  },
  {
   "cell_type": "code",
   "execution_count": 50,
   "metadata": {},
   "outputs": [
    {
     "name": "stdout",
     "output_type": "stream",
     "text": [
      "0 4\n",
      "0 3\n",
      "0 2\n",
      "0 1\n",
      "0 0\n",
      "1 4\n",
      "1 3\n",
      "1 2\n",
      "1 1\n",
      "1 0\n",
      "2 4\n",
      "2 3\n",
      "2 2\n",
      "2 1\n",
      "2 0\n",
      "3 4\n",
      "3 3\n",
      "3 2\n",
      "3 1\n",
      "3 0\n",
      "4 4\n",
      "4 3\n",
      "4 2\n",
      "4 1\n",
      "4 0\n",
      "5 4\n",
      "5 3\n",
      "5 2\n",
      "5 1\n",
      "5 0\n",
      "6 4\n",
      "6 3\n",
      "6 2\n",
      "6 1\n",
      "6 0\n",
      "7 4\n",
      "7 3\n",
      "7 2\n",
      "7 1\n",
      "7 0\n",
      "8 4\n",
      "8 3\n",
      "8 2\n",
      "8 1\n",
      "8 0\n",
      "9 4\n",
      "9 3\n",
      "9 2\n",
      "9 1\n",
      "9 0\n"
     ]
    },
    {
     "data": {
      "text/plain": [
       "([[13, 10, 10, 9, 8],\n",
       "  [15, 10, 14, 14, 12],\n",
       "  [16, 15, 14, 18, 13],\n",
       "  [17, 17, 15, 14, 14],\n",
       "  [17, 19, 20, 15, 15],\n",
       "  [18, 20, 18, 18, 18],\n",
       "  [19, 20, 18, 20, 22],\n",
       "  [20, 20, 18, 22, 26],\n",
       "  [24, 20, 18, 22, 27],\n",
       "  [31, 23, 19, 23, 27]],\n",
       " [[[0, 1], [0, 2], [0, 3], [0, 4], [99, 99]],\n",
       "  [[1, 1], [0, 1], [0, 2], [0, 3], [0, 4]],\n",
       "  [[2, 1], [1, 1], [1, 2], [2, 4], [1, 4]],\n",
       "  [[2, 0], [3, 2], [3, 3], [3, 4], [2, 4]],\n",
       "  [[3, 0], [3, 1], [4, 3], [3, 3], [3, 4]],\n",
       "  [[4, 0], [5, 2], [5, 3], [4, 3], [4, 4]],\n",
       "  [[5, 0], [6, 2], [5, 2], [5, 3], [5, 4]],\n",
       "  [[6, 0], [7, 2], [6, 2], [6, 3], [6, 4]],\n",
       "  [[8, 1], [8, 2], [7, 2], [7, 3], [7, 4]],\n",
       "  [[9, 1], [9, 2], [8, 2], [8, 3], [8, 4]]])"
      ]
     },
     "execution_count": 50,
     "metadata": {},
     "output_type": "execute_result"
    }
   ],
   "source": [
    "#2사분면과 4사분면의 데이터로 해보기\n",
    "\n",
    "가중치누적값 = [[0 for i in range(5)] for i in range(len(cross_))]\n",
    "좌표저장 = [[[0,0] for i in range(5)] for j in range(len(cross_))]\n",
    "\n",
    "\n",
    "for i in range(len(cross_)):\n",
    "    for j in range(4,-1,-1):\n",
    "        print(i,j)\n",
    "        if i == 0 and j == 4:\n",
    "            가중치누적값[0][4] = cross_[0][4]\n",
    "            좌표저장[i][j] = [99,99] # 초기값을 행렬에서 존재하지 않는 값을 넣어주면 초기값으로 구분이 쉽다\n",
    "        elif i == 0:\n",
    "            가중치누적값[i][j] = 가중치누적값[i][j+1] + cross_[i][j]\n",
    "            좌표저장[i][j] = [i,j+1]\n",
    "        elif j == 4:\n",
    "            가중치누적값[i][j] = 가중치누적값[i-1][j] + cross_[i][j]\n",
    "            좌표저장[i][j] = [i-1,j]\n",
    "        else:\n",
    "            #가중치누적값[i][j] = min(가중치누적값[i][j-1],가중치누적값[i-1][j]) + c[i][j]\n",
    "            if 가중치누적값[i][j+1] > 가중치누적값[i-1][j]:\n",
    "                가중치누적값[i][j] = 가중치누적값[i-1][j] + cross_[i][j]\n",
    "                좌표저장[i][j] = [i-1,j]\n",
    "            else:\n",
    "                가중치누적값[i][j] = 가중치누적값[i][j+1] + cross_[i][j]\n",
    "                좌표저장[i][j] = [i,j+1]\n",
    "                \n",
    "가중치누적값,좌표저장"
   ]
  },
  {
   "cell_type": "code",
   "execution_count": 48,
   "metadata": {},
   "outputs": [
    {
     "data": {
      "text/plain": [
       "([[13, 10, 10, 9, 8],\n",
       "  [15, 10, 14, 14, 12],\n",
       "  [16, 15, 14, 18, 13],\n",
       "  [17, 17, 15, 14, 14],\n",
       "  [17, 19, 20, 15, 15],\n",
       "  [18, 20, 18, 18, 18],\n",
       "  [19, 20, 18, 20, 22],\n",
       "  [20, 20, 18, 22, 26],\n",
       "  [24, 20, 18, 22, 27],\n",
       "  [31, 23, 19, 23, 27]],\n",
       " [[3, 0, 1, 1, 8],\n",
       "  [5, 0, 4, 5, 4],\n",
       "  [1, 5, 0, 5, 1],\n",
       "  [1, 2, 1, 0, 1],\n",
       "  [0, 2, 5, 1, 1],\n",
       "  [1, 2, 0, 3, 3],\n",
       "  [1, 2, 0, 2, 4],\n",
       "  [1, 2, 0, 2, 4],\n",
       "  [4, 2, 0, 0, 1],\n",
       "  [8, 4, 1, 1, 0]])"
      ]
     },
     "execution_count": 48,
     "metadata": {},
     "output_type": "execute_result"
    }
   ],
   "source": [
    "가중치누적값, cross_"
   ]
  },
  {
   "cell_type": "code",
   "execution_count": 51,
   "metadata": {},
   "outputs": [
    {
     "data": {
      "text/plain": [
       "[[[0, 1], [0, 2], [0, 3], [0, 4], [99, 99]],\n",
       " [[1, 1], [0, 1], [0, 2], [0, 3], [0, 4]],\n",
       " [[2, 1], [1, 1], [1, 2], [2, 4], [1, 4]],\n",
       " [[2, 0], [3, 2], [3, 3], [3, 4], [2, 4]],\n",
       " [[3, 0], [3, 1], [4, 3], [3, 3], [3, 4]],\n",
       " [[4, 0], [5, 2], [5, 3], [4, 3], [4, 4]],\n",
       " [[5, 0], [6, 2], [5, 2], [5, 3], [5, 4]],\n",
       " [[6, 0], [7, 2], [6, 2], [6, 3], [6, 4]],\n",
       " [[8, 1], [8, 2], [7, 2], [7, 3], [7, 4]],\n",
       " [[9, 1], [9, 2], [8, 2], [8, 3], [8, 4]]]"
      ]
     },
     "execution_count": 51,
     "metadata": {},
     "output_type": "execute_result"
    }
   ],
   "source": [
    "좌표저장"
   ]
  },
  {
   "cell_type": "code",
   "execution_count": 53,
   "metadata": {},
   "outputs": [
    {
     "data": {
      "text/plain": [
       "[9, 1]"
      ]
     },
     "execution_count": 53,
     "metadata": {},
     "output_type": "execute_result"
    }
   ],
   "source": [
    "좌표저장[len(cross_)-1][0]"
   ]
  },
  {
   "cell_type": "code",
   "execution_count": 54,
   "metadata": {},
   "outputs": [
    {
     "name": "stdout",
     "output_type": "stream",
     "text": [
      "9 1\n",
      "9 2\n",
      "8 2\n",
      "7 2\n",
      "6 2\n",
      "5 2\n",
      "5 3\n",
      "4 3\n",
      "3 3\n",
      "3 4\n"
     ]
    }
   ],
   "source": [
    "for k in range(10) :\n",
    "    if k == 0 :\n",
    "        i, j = 좌표저장[len(cross_)-1][0]\n",
    "    else:\n",
    "        i, j = 좌표저장[i][j]\n",
    "        \n",
    "    print(i,j)"
   ]
  }
 ],
 "metadata": {
  "kernelspec": {
   "display_name": "Python 3",
   "language": "python",
   "name": "python3"
  },
  "language_info": {
   "codemirror_mode": {
    "name": "ipython",
    "version": 3
   },
   "file_extension": ".py",
   "mimetype": "text/x-python",
   "name": "python",
   "nbconvert_exporter": "python",
   "pygments_lexer": "ipython3",
   "version": "3.8.3"
  }
 },
 "nbformat": 4,
 "nbformat_minor": 4
}
