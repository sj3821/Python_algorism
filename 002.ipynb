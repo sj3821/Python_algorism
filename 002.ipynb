{
 "cells": [
  {
   "cell_type": "code",
   "execution_count": 7,
   "metadata": {},
   "outputs": [
    {
     "name": "stdout",
     "output_type": "stream",
     "text": [
      "[100, 200, 300, 400]\n",
      "<class 'list'>\n",
      "200\n",
      "[100, 1000, 300, 400]\n"
     ]
    }
   ],
   "source": [
    "#리스트, 튜플, 딕셔너리, 셋\n",
    "\n",
    "#리스트\n",
    "l = [100,200,300,400]\n",
    "print(l)\n",
    "print(type(l))\n",
    "#변경이 가능한 자료형\n",
    "#순서가 있는 자료형\n",
    "print(l[1])\n",
    "l[1]=1000\n",
    "print(l)"
   ]
  },
  {
   "cell_type": "code",
   "execution_count": 4,
   "metadata": {},
   "outputs": [
    {
     "name": "stdout",
     "output_type": "stream",
     "text": [
      "[400, 300, 200, 100]\n",
      "['__add__', '__class__', '__contains__', '__delattr__', '__delitem__', '__dir__', '__doc__', '__eq__', '__format__', '__ge__', '__getattribute__', '__getitem__', '__gt__', '__hash__', '__iadd__', '__imul__', '__init__', '__init_subclass__', '__iter__', '__le__', '__len__', '__lt__', '__mul__', '__ne__', '__new__', '__reduce__', '__reduce_ex__', '__repr__', '__reversed__', '__rmul__', '__setattr__', '__setitem__', '__sizeof__', '__str__', '__subclasshook__', 'append', 'clear', 'copy', 'count', 'extend', 'index', 'insert', 'pop', 'remove', 'reverse', 'sort']\n",
      "[100, 200, 300, 400, 300]\n",
      "2\n",
      "[100, 200, 300, 400, 300]\n",
      "[100, 200, 300, 400, 300, 100, 200, 300]\n",
      "0\n",
      "[100, 200, 300, 1000, 400, 300, 100, 200, 300]\n",
      "[100, 200, 300, 1000, 400, 300, 100, 200]\n",
      "[100, 200, 300, 400, 300, 100, 200]\n",
      "[200, 300, 400, 300, 100, 200]\n",
      "[200, 100, 300, 400, 300, 200]\n",
      "[100, 200, 200, 300, 300, 400]\n"
     ]
    }
   ],
   "source": [
    "l = [100,200,300,400]\n",
    "print(l[::-1]) # 리스트는 순서가 있기 때문에 l[start:stop:step] 로 인덱싱 출력 가능\n",
    "print(dir(l))\n",
    "\n",
    "l.append(300) #리스트 맨뒤에 값을 추가함\n",
    "print(l)\n",
    "# l.clear() 리스트를 비우는 명렁어\n",
    "# l.copy()\n",
    "print(l.count(300)) # 리스트에서 300의 갯수 구하기\n",
    "print(l)\n",
    "l.extend([100,200,300]) #여러개의 값을 리스트에 확장(추가)할 수 있다\n",
    "print(l)\n",
    "print(l.index(100))  # index 안 인수의 인덱스 위치를 찾아준다\n",
    "l.insert(3,1000) # 3번째에 1000을 넣겠다. 낑겨넣는거라서 기존의 값을 뒤로 밀린다.\n",
    "print(l)\n",
    "# l.pop(3) # 리스트의 인덱스(인자값)에 해당하는 값을 뺀다(없앤다). l.pop()으로만 하면 마지막 값을 뺀다.\n",
    "l.pop()\n",
    "print(l)\n",
    "l.remove(1000) # 리스트의 데이터가 1000인걸 제거한다\n",
    "print(l)\n",
    "l.remove(100) # 100을 지우지만 처음 만난 100만 지운다. 그래서 뒤의 100들은 살아있다.\n",
    "print(l)\n",
    "l.reverse() # 리스트를 뒤집음 (역순으로)\n",
    "print(l)\n",
    "l.sort()  # 정렬\n",
    "print(l)\n",
    "\n",
    "# 위의 reverse와 sort는 직접 l의 값을 만지고 수정되게 한다\n",
    "# 아래의 sorted()와 reversed() 는 직접 값을 만지지 않는다.(나중에 설명)\n",
    "# sorted()\n",
    "# reversed()"
   ]
  },
  {
   "cell_type": "code",
   "execution_count": 5,
   "metadata": {},
   "outputs": [
    {
     "name": "stdout",
     "output_type": "stream",
     "text": [
      "([10, 20], 200, 300)\n",
      "<class 'tuple'>\n",
      "['__add__', '__class__', '__contains__', '__delattr__', '__dir__', '__doc__', '__eq__', '__format__', '__ge__', '__getattribute__', '__getitem__', '__getnewargs__', '__gt__', '__hash__', '__init__', '__init_subclass__', '__iter__', '__le__', '__len__', '__lt__', '__mul__', '__ne__', '__new__', '__reduce__', '__reduce_ex__', '__repr__', '__rmul__', '__setattr__', '__sizeof__', '__str__', '__subclasshook__', 'count', 'index']\n",
      "([10000, 20], 200, 300)\n"
     ]
    }
   ],
   "source": [
    "l=[10,20]\n",
    "\n",
    "#튜플\n",
    "t = (l,200,300) \n",
    "# 튜플은 참조불변이지, 값을 불변은 아니라서 튜플로 저장된 리스트가 바뀌는 것까지 터지하지 않는다. \n",
    "print(t)\n",
    "print(type(t))\n",
    "print(dir(t))\n",
    "\n",
    "# 순서가 있고\n",
    "# 변경이 불가능한 자료형\n",
    "\n",
    "# t[0] = 1000 error\n",
    "\n",
    "l[0] = 10000\n",
    "print(t)"
   ]
  },
  {
   "cell_type": "code",
   "execution_count": 10,
   "metadata": {},
   "outputs": [
    {
     "name": "stdout",
     "output_type": "stream",
     "text": [
      "{200, 100, 300}\n",
      "<class 'set'>\n",
      "['__and__', '__class__', '__contains__', '__delattr__', '__dir__', '__doc__', '__eq__', '__format__', '__ge__', '__getattribute__', '__gt__', '__hash__', '__iand__', '__init__', '__init_subclass__', '__ior__', '__isub__', '__iter__', '__ixor__', '__le__', '__len__', '__lt__', '__ne__', '__new__', '__or__', '__rand__', '__reduce__', '__reduce_ex__', '__repr__', '__ror__', '__rsub__', '__rxor__', '__setattr__', '__sizeof__', '__str__', '__sub__', '__subclasshook__', '__xor__', 'add', 'clear', 'copy', 'difference', 'difference_update', 'discard', 'intersection', 'intersection_update', 'isdisjoint', 'issubset', 'issuperset', 'pop', 'remove', 'symmetric_difference', 'symmetric_difference_update', 'union', 'update']\n",
      "{200, 100, 500, 300}\n",
      "{'a', 'g', 'd', 'b', 'f', 'e', 'c'}\n",
      "{1, 2, 3, 100, 500, 200, 300}\n"
     ]
    }
   ],
   "source": [
    "# 셋(set)\n",
    "# 순서가 없고\n",
    "# 값의 중복을 허락하지 않는다\n",
    "\n",
    "s = {100,200,300,300,300}\n",
    "ss = {1,2,3}\n",
    "print(s)\n",
    "print(type(s))\n",
    "print(dir(s))\n",
    "\n",
    "s.add(500) # 500을 추가\n",
    "print(s)\n",
    "print(set('aabbccccdddefggg')) #중복을 제거하는데 많이 사용\n",
    "\n",
    "print(s.union(ss)) # union 합집합"
   ]
  },
  {
   "cell_type": "code",
   "execution_count": 17,
   "metadata": {},
   "outputs": [
    {
     "name": "stdout",
     "output_type": "stream",
     "text": [
      "10\n",
      "<class 'dict'>\n",
      "['__class__', '__contains__', '__delattr__', '__delitem__', '__dir__', '__doc__', '__eq__', '__format__', '__ge__', '__getattribute__', '__getitem__', '__gt__', '__hash__', '__init__', '__init_subclass__', '__iter__', '__le__', '__len__', '__lt__', '__ne__', '__new__', '__reduce__', '__reduce_ex__', '__repr__', '__setattr__', '__setitem__', '__sizeof__', '__str__', '__subclasshook__', 'clear', 'copy', 'fromkeys', 'get', 'items', 'keys', 'pop', 'popitem', 'setdefault', 'update', 'values']\n",
      "dict_values([10, 20])\n",
      "dict_keys(['one', 'two'])\n",
      "dict_items([('one', 10), ('two', 20)])\n",
      "10\n"
     ]
    }
   ],
   "source": [
    "# d = {key:value}\n",
    "d = {'one':10, 'two':20}\n",
    "# 순서가 없고\n",
    "# 키의 중복을 허락하지 않는다\n",
    "print(d['one'])\n",
    "print(type(d))\n",
    "print(dir(d))\n",
    "\n",
    "print(d.values())  # value만 모아서 출력\n",
    "print(d.keys())    # key 만 모아서 출력\n",
    "print(d.items())   # key와 value를 순서가 있게 리스트 안의 튜플로 변환해서 출력 \n",
    "\n",
    "l = list(d.items())\n",
    "print(l[0][1]) # 다중리스트 0번째의 1번째 값을 출력 "
   ]
  },
  {
   "cell_type": "code",
   "execution_count": 19,
   "metadata": {},
   "outputs": [
    {
     "name": "stdout",
     "output_type": "stream",
     "text": [
      "{'banana': 5000, 'orange': 2000}\n"
     ]
    }
   ],
   "source": [
    "jeju = {'banana':5000, 'orange':2000}\n",
    "seoul= jeju.copy() # jeju를 복사한다\n",
    "jeju['orange'] = 100000\n",
    "print(seoul)"
   ]
  }
 ],
 "metadata": {
  "kernelspec": {
   "display_name": "Python 3",
   "language": "python",
   "name": "python3"
  },
  "language_info": {
   "codemirror_mode": {
    "name": "ipython",
    "version": 3
   },
   "file_extension": ".py",
   "mimetype": "text/x-python",
   "name": "python",
   "nbconvert_exporter": "python",
   "pygments_lexer": "ipython3",
   "version": "3.7.4"
  }
 },
 "nbformat": 4,
 "nbformat_minor": 2
}
