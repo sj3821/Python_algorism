{
 "cells": [
  {
   "cell_type": "code",
   "execution_count": 4,
   "metadata": {},
   "outputs": [],
   "source": [
    "대기인원 = 14000605\n",
    "#대기인원 = 1200202\n",
    "\n",
    "# 9시        25    25\n",
    "# 9시 10분   15    40\n",
    "# 9시 20분   15    55\n",
    "# 9시 30분   15    70\n",
    "# 9시 40분   15    85\n",
    "# 9시 50분   15   100\n",
    "\n",
    "#1시간에 100명이 타는 것을 알 수 있음\n",
    "#100명씩 12시간 -> 1200명"
   ]
  },
  {
   "cell_type": "code",
   "execution_count": 10,
   "metadata": {},
   "outputs": [
    {
     "data": {
      "text/plain": [
       "11667"
      ]
     },
     "execution_count": 10,
     "metadata": {},
     "output_type": "execute_result"
    }
   ],
   "source": [
    "대기일 = 대기인원 // 1200\n",
    "대기일"
   ]
  },
  {
   "cell_type": "code",
   "execution_count": 11,
   "metadata": {},
   "outputs": [
    {
     "name": "stdout",
     "output_type": "stream",
     "text": [
      "1024\n",
      "512\n",
      "256\n",
      "128\n",
      "64\n",
      "32\n",
      "16\n",
      "8\n",
      "4\n",
      "2\n"
     ]
    },
    {
     "data": {
      "text/plain": [
       "2046"
      ]
     },
     "execution_count": 11,
     "metadata": {},
     "output_type": "execute_result"
    }
   ],
   "source": [
    "일년일수 = 0\n",
    "for i in range(10,0,-1):\n",
    "    print(2**i)\n",
    "    일년일수 += 2**i\n",
    "일년일수"
   ]
  },
  {
   "cell_type": "code",
   "execution_count": 13,
   "metadata": {},
   "outputs": [
    {
     "data": {
      "text/plain": [
       "5"
      ]
     },
     "execution_count": 13,
     "metadata": {},
     "output_type": "execute_result"
    }
   ],
   "source": [
    "대기일 // 일년일수   #대기일을 일년일수로 나누면 5년이 나옴"
   ]
  },
  {
   "cell_type": "code",
   "execution_count": 16,
   "metadata": {},
   "outputs": [
    {
     "data": {
      "text/plain": [
       "1437"
      ]
     },
     "execution_count": 16,
     "metadata": {},
     "output_type": "execute_result"
    }
   ],
   "source": [
    "남은일수 = 대기일 % 일년일수    #나머지 값이니까 위의 5년하고 그 외에 남은 일수\n",
    "남은일수"
   ]
  },
  {
   "cell_type": "code",
   "execution_count": 21,
   "metadata": {},
   "outputs": [
    {
     "data": {
      "text/plain": [
       "413"
      ]
     },
     "execution_count": 21,
     "metadata": {},
     "output_type": "execute_result"
    }
   ],
   "source": [
    "월별일수누적값 = 0\n",
    "월 = 0\n",
    "for i in range(10,0,-1):\n",
    "    차감일 = 월별일수누적값 #전달까지의 누적값\n",
    "    월별일수누적값 += 2**i\n",
    "    월 +=1\n",
    "    if 월별일수누적값 > 남은일수 :\n",
    "        break\n",
    "월                 # 2달 하고도\n",
    "남은일수-차감일    # 413일"
   ]
  },
  {
   "cell_type": "code",
   "execution_count": 23,
   "metadata": {},
   "outputs": [
    {
     "data": {
      "text/plain": [
       "205"
      ]
     },
     "execution_count": 23,
     "metadata": {},
     "output_type": "execute_result"
    }
   ],
   "source": [
    "대기인원 % 1200"
   ]
  },
  {
   "cell_type": "code",
   "execution_count": 24,
   "metadata": {},
   "outputs": [],
   "source": [
    "# 224명이 남았다고 생각해봅시다.\n",
    "\n",
    "# 225 : 라이켓\n",
    "# ----  이렇게 짤리는 경우에는 \n",
    "# 226 : 자바독\n",
    "\n",
    "# 둘이 나눠지면 뒷배를 타게 해야하니까...\n",
    "\n",
    "# 223명이 남았다고 생각해봅시다.\n",
    "# 224  : 라이켓\n",
    "# 225  : 자바독\n",
    "# ---\n",
    "#      OK\n",
    "\n",
    "# 225명이 남았다고 생각해봅시다\n",
    "\n",
    "# ---\n",
    "# 226   : 라이켓\n",
    "# 227   : 자바독      OK"
   ]
  },
  {
   "cell_type": "code",
   "execution_count": 27,
   "metadata": {},
   "outputs": [
    {
     "data": {
      "text/plain": [
       "11"
      ]
     },
     "execution_count": 27,
     "metadata": {},
     "output_type": "execute_result"
    }
   ],
   "source": [
    "# 몇시에 출발하는지 알아보기 \n",
    "\n",
    "최종남은인원 = 대기인원 % 1200\n",
    "최종남은인원 // 100 + 9 # 100으로 나눈 것에 9시를 더하기"
   ]
  },
  {
   "cell_type": "code",
   "execution_count": 31,
   "metadata": {},
   "outputs": [
    {
     "data": {
      "text/plain": [
       "0"
      ]
     },
     "execution_count": 31,
     "metadata": {},
     "output_type": "execute_result"
    }
   ],
   "source": [
    "출발분 = [25, 40, 55, 70, 85, 100] #  정시부터10분 간격으로 누적되는 탑승인원수를 리스트로 저장\n",
    "\n",
    "몇분에탈지계산 = 최종남은인원 % 100 + 1 # 99 +1 의 경우에는 시간으로 넘어가 + 1시간을 해주어야 한다.\n",
    "\n",
    "\n",
    "for i in 출발분 :\n",
    "    if i > 몇분에탈지계산:\n",
    "        당일출발_분 = 출발분.index(i) * 10\n",
    "        break\n",
    "    \n",
    "당일출발_분\n"
   ]
  },
  {
   "cell_type": "code",
   "execution_count": 32,
   "metadata": {},
   "outputs": [
    {
     "data": {
      "text/plain": [
       "datetime.datetime(2020, 8, 30, 18, 2, 47, 10268)"
      ]
     },
     "execution_count": 32,
     "metadata": {},
     "output_type": "execute_result"
    }
   ],
   "source": [
    "import datetime\n",
    "\n",
    "오늘시간 = datetime.datetime.today()\n",
    "오늘시간"
   ]
  },
  {
   "cell_type": "code",
   "execution_count": 33,
   "metadata": {},
   "outputs": [
    {
     "data": {
      "text/plain": [
       "2"
      ]
     },
     "execution_count": 33,
     "metadata": {},
     "output_type": "execute_result"
    }
   ],
   "source": [
    "# 오늘시간.year\n",
    "# 오늘시간.month\n",
    "# 오늘시간.day\n",
    "# 오늘시간.hour\n",
    "오늘시간.minute\n",
    "# 오늘시간.second\n",
    "# 오늘시간.microsecond"
   ]
  },
  {
   "cell_type": "code",
   "execution_count": 34,
   "metadata": {},
   "outputs": [
    {
     "data": {
      "text/plain": [
       "85"
      ]
     },
     "execution_count": 34,
     "metadata": {},
     "output_type": "execute_result"
    }
   ],
   "source": [
    "45 + 40 # 1시간을 넘을 경우 -60을 해주고 1시간을 플러스 해야함."
   ]
  },
  {
   "cell_type": "code",
   "execution_count": 37,
   "metadata": {},
   "outputs": [
    {
     "data": {
      "text/plain": [
       "'01:01'"
      ]
     },
     "execution_count": 37,
     "metadata": {},
     "output_type": "execute_result"
    }
   ],
   "source": [
    "시간 = 1\n",
    "분 = 1\n",
    "\n",
    "f'{시간:0>2}:{분:0>2}'"
   ]
  },
  {
   "cell_type": "code",
   "execution_count": 39,
   "metadata": {},
   "outputs": [
    {
     "data": {
      "text/plain": [
       "'000000000hello world'"
      ]
     },
     "execution_count": 39,
     "metadata": {},
     "output_type": "execute_result"
    }
   ],
   "source": [
    "'hello world'.zfill(20)"
   ]
  },
  {
   "cell_type": "code",
   "execution_count": 44,
   "metadata": {},
   "outputs": [
    {
     "data": {
      "text/plain": [
       "'2025년 2월 413일 11시 0분 출발'"
      ]
     },
     "execution_count": 44,
     "metadata": {},
     "output_type": "execute_result"
    }
   ],
   "source": [
    "import datetime\n",
    "\n",
    "오늘시간 = datetime.datetime.today()\n",
    "대기인원 = 14000605\n",
    "\n",
    "def solution(대기인원):\n",
    "    일년일수 = 0\n",
    "    for i in range(10,0,-1):\n",
    "        일년일수 += 2**i\n",
    "    년 = (대기인원 // 1200) // 일년일수\n",
    "    남은일수 = (대기인원//1200) % 일년일수\n",
    "    \n",
    "    월별일수누적값 = 0\n",
    "    월 = 0\n",
    "    \n",
    "    for i in range(10,0,-1):\n",
    "        차감일 = 월별일수누적값\n",
    "        월별일수누적값 += 2**i\n",
    "        월+=1\n",
    "        if 월별일수누적값 > 남은일수 : \n",
    "            break\n",
    "    \n",
    "    일 = 남은일수 - 차감일\n",
    "    최종남은인원 = 대기인원 % 1200\n",
    "    시 = 최종남은인원 // 100 + 9\n",
    "    \n",
    "    출발분 = [25,40,55,70,85,100]\n",
    "    해당시간에남은인원 = 최종남은인원 % 100 + 1\n",
    "    for i in 출발분:\n",
    "        if i > 해당시간에남은인원:\n",
    "            분 = 출발분.index(i)*10\n",
    "            break\n",
    "            \n",
    "    if 최종남은인원 % 100 == 99:\n",
    "        시 += 1\n",
    "        분 = 0\n",
    "        \n",
    "    if(오늘시간.minute + 분 > 60):\n",
    "        분 = (오늘시간.minute + 분) - 60\n",
    "        시 += 1\n",
    "        \n",
    "    return f'{년+2020}년 {월}월 {일}일 {시}시 {분}분 출발'\n",
    "\n",
    "solution(대기인원)"
   ]
  }
 ],
 "metadata": {
  "kernelspec": {
   "display_name": "Python 3",
   "language": "python",
   "name": "python3"
  },
  "language_info": {
   "codemirror_mode": {
    "name": "ipython",
    "version": 3
   },
   "file_extension": ".py",
   "mimetype": "text/x-python",
   "name": "python",
   "nbconvert_exporter": "python",
   "pygments_lexer": "ipython3",
   "version": "3.8.3"
  }
 },
 "nbformat": 4,
 "nbformat_minor": 4
}
