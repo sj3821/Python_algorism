{
 "cells": [
  {
   "cell_type": "code",
   "execution_count": 8,
   "metadata": {},
   "outputs": [
    {
     "name": "stdout",
     "output_type": "stream",
     "text": [
      "인스턴스가 만들어졌습니다!\n",
      "인스턴스가 만들어졌습니다!\n",
      "인스턴스가 만들어졌습니다!\n",
      "5\n",
      "5\n",
      "<class '__main__.Car'>\n",
      "['__class__', '__delattr__', '__dict__', '__dir__', '__doc__', '__eq__', '__format__', '__ge__', '__getattribute__', '__gt__', '__hash__', '__init__', '__init_subclass__', '__le__', '__lt__', '__module__', '__ne__', '__new__', '__reduce__', '__reduce_ex__', '__repr__', '__setattr__', '__sizeof__', '__str__', '__subclasshook__', '__weakref__', 'maxPeople', 'maxSpeed', 'start', 'stop']\n",
      "hello world\n"
     ]
    }
   ],
   "source": [
    "# 클래스 ? 붕어빵을 찍는 틀\n",
    "\n",
    "class Car():\n",
    "    maxSpeed =300\n",
    "    maxPeople = 5\n",
    "    def start(self):\n",
    "        print('출발')\n",
    "    def stop(self):\n",
    "        print('정지')\n",
    "    def __str__(self): # 매직 메소드(Magic Method) 함수이름 앞과 뒤에 언더스코어(_) 두개가 연속으로 붙어있는 함수. 재정의하여 사용\n",
    "        return 'hello world'\n",
    "    def __init__(self): #초기화. 인스턴스가 만들어질때마다 무조건 실행되는 함수\n",
    "        print('인스턴스가 만들어졌습니다!')\n",
    "\n",
    "class Hybrid(Car):\n",
    "    battery =1000\n",
    "    batteryKM=300\n",
    "k9 = Car()\n",
    "k5 = Car()\n",
    "k3 = Hybrid()\n",
    "print(k9.maxPeople)\n",
    "print(k3.maxPeople)\n",
    "print(type(k9))\n",
    "print(dir(k9))\n",
    "print(k9)"
   ]
  },
  {
   "cell_type": "markdown",
   "metadata": {},
   "source": [
    "Markdown\n",
    "\n",
    "# 제목1\n",
    "## 제목2\n",
    "### 제목3\n",
    "plaintext\n",
    "1. hello world\n",
    "2. hello world"
   ]
  },
  {
   "cell_type": "code",
   "execution_count": null,
   "metadata": {},
   "outputs": [],
   "source": []
  },
  {
   "cell_type": "markdown",
   "metadata": {},
   "source": [
    "## class\n",
    "1. class name 첫 문자가 대문자\n",
    "2. class는 대부분 직접 만지지 않습니다.\n",
    "3. class를 붕어빵 찍는 틀로 생각한다면 Instance는 붕어빵입니다.\n"
   ]
  },
  {
   "cell_type": "code",
   "execution_count": null,
   "metadata": {},
   "outputs": [],
   "source": []
  }
 ],
 "metadata": {
  "kernelspec": {
   "display_name": "Python 3",
   "language": "python",
   "name": "python3"
  },
  "language_info": {
   "codemirror_mode": {
    "name": "ipython",
    "version": 3
   },
   "file_extension": ".py",
   "mimetype": "text/x-python",
   "name": "python",
   "nbconvert_exporter": "python",
   "pygments_lexer": "ipython3",
   "version": "3.7.4"
  }
 },
 "nbformat": 4,
 "nbformat_minor": 2
}
