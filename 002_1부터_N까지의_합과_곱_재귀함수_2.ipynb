{
 "cells": [
  {
   "cell_type": "code",
   "execution_count": 2,
   "metadata": {},
   "outputs": [
    {
     "name": "stdout",
     "output_type": "stream",
     "text": [
      "5050\n"
     ]
    }
   ],
   "source": [
    "def f(n):\n",
    "    if n<=1:\n",
    "        return 1\n",
    "    else:\n",
    "        return n + f(n-1)\n",
    "        \n",
    "n=100\n",
    "print(f(n))"
   ]
  },
  {
   "cell_type": "markdown",
   "metadata": {},
   "source": [
    "     f(n)      n       return      최종\n",
    " 1.  f(100)   100     100 + f(99)  100 + 99 + + 98 + ... + 2 + 1 = 5050\n",
    " 2.  f(99)     99      99 + f(98)  99 + 98 + 97 + 96 + 95 + ... + 2 + 1 =  ...\n",
    " 3.  f(98)     98      98 + f(97)  98 + 97 + 96 + 95 + ... + 2 + 1 = ...\n",
    " 4.  f(97)     97      97 + f(96)  97 + 96 + 95 + ... + 2 + 1 = 4753\n",
    " 5.  ...\n",
    " 6.  f(2)       2       2 + f(1)   2 + 1 = 8\n",
    " 7.  f(1)       1       1\n",
    "\n"
   ]
  },
  {
   "cell_type": "code",
   "execution_count": 4,
   "metadata": {},
   "outputs": [
    {
     "name": "stdout",
     "output_type": "stream",
     "text": [
      "120\n"
     ]
    }
   ],
   "source": [
    "def f(n):\n",
    "    if n<=1:\n",
    "        return 1\n",
    "    else:\n",
    "        return n * f(n-1)\n",
    "        \n",
    "n=5\n",
    "print(f(n))"
   ]
  },
  {
   "cell_type": "markdown",
   "metadata": {},
   "source": [
    "     f(n)     n    return\n",
    " 1.  f(5)     5    5 * f(4)    = 120\n",
    " 2.  f(4)     4    4 * f(3)    = 24\n",
    " 3.  f(3)     3    3 * f(2)    = 6\n",
    " 4.  f(2)     2    2 * f(1)    = 2\n",
    " 5.  f(1)     1    1"
   ]
  }
 ],
 "metadata": {
  "kernelspec": {
   "display_name": "Python 3",
   "language": "python",
   "name": "python3"
  },
  "language_info": {
   "codemirror_mode": {
    "name": "ipython",
    "version": 3
   },
   "file_extension": ".py",
   "mimetype": "text/x-python",
   "name": "python",
   "nbconvert_exporter": "python",
   "pygments_lexer": "ipython3",
   "version": "3.8.3"
  }
 },
 "nbformat": 4,
 "nbformat_minor": 4
}
