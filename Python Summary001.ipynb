{
 "cells": [
  {
   "cell_type": "code",
   "execution_count": 3,
   "metadata": {},
   "outputs": [
    {
     "data": {
      "text/plain": [
       "13"
      ]
     },
     "execution_count": 3,
     "metadata": {},
     "output_type": "execute_result"
    }
   ],
   "source": [
    "x = 3\n",
    "y = 10\n",
    "print(x + y)"
   ]
  },
  {
   "cell_type": "code",
   "execution_count": 4,
   "metadata": {},
   "outputs": [
    {
     "data": {
      "text/plain": [
       "'\\nhello world   여러줄주석\\n'"
      ]
     },
     "execution_count": 4,
     "metadata": {},
     "output_type": "execute_result"
    }
   ],
   "source": [
    "#Hello world  한줄주석\n",
    "'''\n",
    "hello world   여러줄주석\n",
    "\n",
    "ctrl+enter : 실행\n",
    "alt+ enter : 줄바꿈\n",
    "'''"
   ]
  },
  {
   "cell_type": "code",
   "execution_count": 7,
   "metadata": {},
   "outputs": [
    {
     "name": "stdout",
     "output_type": "stream",
     "text": [
      "20.1\n",
      "<class 'int'>\n"
     ]
    }
   ],
   "source": [
    "a=10              #int(정수)\n",
    "b=10.1            #float(실수)\n",
    "c='hello world'  #str(문자열)\n",
    "d=-1             #int(정수)\n",
    "e='lee'\n",
    "f='suji'\n",
    "g=10+2j\n",
    "h=0b1001 #int 2진수\n",
    "i=0o1001 #int 8진수\n",
    "j=0x1001 #int 16진수\n",
    "\n",
    "print(a+b) #정수+실수를 하면 실수가 나온다.\n",
    "\n",
    "print(type(a)) #자료형 확인\n",
    "#print(dir(a))"
   ]
  },
  {
   "cell_type": "code",
   "execution_count": 9,
   "metadata": {},
   "outputs": [
    {
     "name": "stdout",
     "output_type": "stream",
     "text": [
      "<class 'str'>\n",
      "D\n",
      "Develop\n",
      "DvlprSJ \n",
      "S repoleve\n",
      "Dvlpr\n",
      "DvlprSJ E\n",
      "EEL IJUS repoleveD\n",
      "E\n"
     ]
    }
   ],
   "source": [
    "s = 'Developer SUJI LEE'\n",
    "print(type(s))  #자료형 확인\n",
    "#print(dir(s))\n",
    "\n",
    "print(s[0]) #s의 0번째 출력해라\n",
    "print(s[0:7]) #s의 0부터 7까지 출력해라 \n",
    "#[] 안에 있는 숫자들은 인덱스라고 하고, 지금 하고 있는 건 인덱싱이라고 한다\n",
    "\n",
    "print(s[0:15:2]) #0번쨰부터 15번째까지 2칸씩 건너뛰면서 출력해라\n",
    "print(s[10:0:-1]) #10번쨰부터 0번째까지 거꾸로 출력해라\n",
    "print(s[:10:2]) #처음부터 10번째까지 2칸씩 건너뛰면서 출력해라\n",
    "print(s[::2])   #처음부터 마지막까지 2칸씩 건너뛰면서 출력해라\n",
    "print(s[::-1])  #처음부터 마지막까지 -1로(역순으로) 출력해라\n",
    "print(s[-1]) # s[-1]은 마지막값이다"
   ]
  },
  {
   "cell_type": "code",
   "execution_count": 3,
   "metadata": {},
   "outputs": [
    {
     "name": "stdout",
     "output_type": "stream",
     "text": [
      "<class 'str'>\n",
      "['__add__', '__class__', '__contains__', '__delattr__', '__dir__', '__doc__', '__eq__', '__format__', '__ge__', '__getattribute__', '__getitem__', '__getnewargs__', '__gt__', '__hash__', '__init__', '__init_subclass__', '__iter__', '__le__', '__len__', '__lt__', '__mod__', '__mul__', '__ne__', '__new__', '__reduce__', '__reduce_ex__', '__repr__', '__rmod__', '__rmul__', '__setattr__', '__sizeof__', '__str__', '__subclasshook__', 'capitalize', 'casefold', 'center', 'count', 'encode', 'endswith', 'expandtabs', 'find', 'format', 'format_map', 'index', 'isalnum', 'isalpha', 'isascii', 'isdecimal', 'isdigit', 'isidentifier', 'islower', 'isnumeric', 'isprintable', 'isspace', 'istitle', 'isupper', 'join', 'ljust', 'lower', 'lstrip', 'maketrans', 'partition', 'replace', 'rfind', 'rindex', 'rjust', 'rpartition', 'rsplit', 'rstrip', 'split', 'splitlines', 'startswith', 'strip', 'swapcase', 'title', 'translate', 'upper', 'zfill']\n",
      "DEVELOPER SUJI LEE\n",
      "developer suji lee\n",
      "hello world\n",
      "['Developer', 'SUJI', 'LEE']\n",
      "Developer!SUJI!LEE\n",
      "제 이름은 이수지입니다. 제 나이는 30입니다.\n",
      "제 이름은 이수지입니다. 제 나이는 30입니다.\n"
     ]
    }
   ],
   "source": [
    "s = 'Developer SUJI LEE'\n",
    "print(type(s))\n",
    "print(dir(s)) #글자 출력 전에 나오는 배열의 것들은 메쏘드들이다? upper, lower, count 등...\n",
    "print(s.upper()) #대문자로 출력\n",
    "print(s.lower()) #소문자로 출력\n",
    "s.count('e') # s에서 'e'를 카운트 (대소문자 구분)\n",
    "ss='           hello world           '\n",
    "print(ss.strip()) #모든 공백 제거, lstrip은 왼쪽공백제거 rstrip은 오른쪽공백제거\n",
    "a = s.split(' ');\n",
    "print(a) # ' '안의 단위로 나눠줌 지금은 ' ' 라서 공백으로 나누는 것이고 '!'이라면 ! 마다 나눠줌 \n",
    "print('!'.join(a)) #!로 합친 변수 a를 보여주고 싶다\n",
    "\n",
    "print('제 이름은 {}입니다. 제 나이는 {}입니다.'.format('이수지',30)) #format 값을 따로 넣어줄 수 있다?\n",
    "print('제 이름은 {0}입니다. 제 나이는 {1}입니다.'.format('이수지',30))"
   ]
  },
  {
   "cell_type": "code",
   "execution_count": 9,
   "metadata": {},
   "outputs": [
    {
     "name": "stdout",
     "output_type": "stream",
     "text": [
      "2019/9/24 2019 9 24\n"
     ]
    }
   ],
   "source": [
    "a = 2019\n",
    "b = 9\n",
    "c = 24\n",
    "# 2019/9/24\n",
    "\n",
    "print(a,b,c, sep='/', end = ' ')\n",
    "#sep : separate 구분자? a,b,c를 같이 출력하는데 세개의 값을 /로 구분해놓겠다.\n",
    "#end : 기본으로 프린트의 제일 끝에는 enter가 들어가있는데 공백으로 주겠다 그래서 아래의 print(a,b,c)가 다음 줄이 아닌 옆으로 옴\n",
    "print(a,b,c)\n"
   ]
  },
  {
   "cell_type": "code",
   "execution_count": 13,
   "metadata": {},
   "outputs": [
    {
     "name": "stdout",
     "output_type": "stream",
     "text": [
      "20\n",
      "1010\n"
     ]
    }
   ],
   "source": [
    "a=10\n",
    "b='10'\n",
    "print(a+int(b)) #형변환 int로\n",
    "print(str(a)+b) #형변환 str로    타입을 먼저쓰고 ()로 묶어준다."
   ]
  },
  {
   "cell_type": "code",
   "execution_count": 15,
   "metadata": {},
   "outputs": [
    {
     "name": "stdout",
     "output_type": "stream",
     "text": [
      "<class 'bool'>\n"
     ]
    }
   ],
   "source": [
    "a= True\n",
    "b= False\n",
    "print(type(a))\n",
    "#print(dir(a))"
   ]
  },
  {
   "cell_type": "code",
   "execution_count": 21,
   "metadata": {},
   "outputs": [
    {
     "name": "stdout",
     "output_type": "stream",
     "text": [
      "True\n",
      "False\n",
      "False\n",
      "True\n",
      "True\n",
      "False\n"
     ]
    }
   ],
   "source": [
    "print(bool(' ')) # 공백이 들어있기 때문에 True가 나옴\n",
    "print(bool(''))  # 아무값이 안들어있기 때문에 False\n",
    "print(bool(0))\n",
    "print(bool(1))\n",
    "print(bool(-1))\n",
    "print(bool(None)) # None:아무것도 없음을 명시해주는 것"
   ]
  },
  {
   "cell_type": "code",
   "execution_count": 25,
   "metadata": {},
   "outputs": [
    {
     "name": "stdout",
     "output_type": "stream",
     "text": [
      "13\n",
      "-7\n",
      "3.3333333333333335\n",
      "3\n",
      "30\n",
      "1000\n",
      "3\n"
     ]
    }
   ],
   "source": [
    "a=3\n",
    "b=10\n",
    "print(a+b)\n",
    "print(a-b)\n",
    "print(b/a) #float 나누기\n",
    "print(b//a)  #int 나누기\n",
    "print(b*a)   #곱하기\n",
    "print(b**a)  #b의 a제곱\n",
    "print(a%b)   #나누고 난 나머지"
   ]
  },
  {
   "cell_type": "code",
   "execution_count": 28,
   "metadata": {},
   "outputs": [
    {
     "name": "stdout",
     "output_type": "stream",
     "text": [
      "True\n",
      "True\n",
      "False\n",
      "False\n",
      "False\n",
      "True\n"
     ]
    }
   ],
   "source": [
    "#비교연산\n",
    "a=10\n",
    "b=3\n",
    "print(a >= b)\n",
    "print(a > b)\n",
    "print(a < b)\n",
    "print(a <= b)\n",
    "print(a == b)  # == 같다\n",
    "print(a != b)  # != 다르다"
   ]
  },
  {
   "cell_type": "code",
   "execution_count": 31,
   "metadata": {},
   "outputs": [
    {
     "name": "stdout",
     "output_type": "stream",
     "text": [
      "False\n",
      "True\n",
      "True\n"
     ]
    }
   ],
   "source": [
    "#논리연산\n",
    "a = True       #  1\n",
    "b = False      #  0\n",
    "print(a and b) #  * and연산\n",
    "print(a or b)  #  + or연산\n",
    "print(not b)   #  반대"
   ]
  },
  {
   "cell_type": "code",
   "execution_count": 33,
   "metadata": {},
   "outputs": [
    {
     "name": "stdout",
     "output_type": "stream",
     "text": [
      "30\n"
     ]
    }
   ],
   "source": [
    "#할당연산\n",
    "a = 10\n",
    "a = a + 10 \n",
    "a += 10\n",
    "print(a)"
   ]
  },
  {
   "cell_type": "code",
   "execution_count": 39,
   "metadata": {},
   "outputs": [
    {
     "name": "stdout",
     "output_type": "stream",
     "text": [
      "8\n",
      "101000\n",
      "001110\n"
     ]
    }
   ],
   "source": [
    "#bit연산\n",
    "a=40\n",
    "b=14\n",
    "print(a & b)\n",
    "# & (and연산), | (or연산 /슬레시 아님! shift + \\임), ~ (NOT연산)\n",
    "\n",
    "print(bin(a)[2:].zfill(6)) #binary 2진법으로 변경, 2번째(0부터 시작하니 b 이후 숫자)부터 슬라이싱하고 zfill로 글자수를 채우는 것\n",
    "print(bin(b)[2:].zfill(6))\n",
    "\n",
    "# 101000\n",
    "# 001110\n",
    "# ------- and 연산\n",
    "# 001000\n",
    "\n",
    "# 비교연산, 할당연산 등의 연산들의 우선순위가 헷갈리면 ()로 묶어서 우선순위를 내가 정하는 것이 마음 편함"
   ]
  },
  {
   "cell_type": "code",
   "execution_count": 42,
   "metadata": {},
   "outputs": [
    {
     "name": "stdout",
     "output_type": "stream",
     "text": [
      "8\n"
     ]
    }
   ],
   "source": [
    "def f(x,y):    # 함수    \n",
    "    # 넣어주는 값 x,y는 parameter 파라미터\n",
    "    z = x+y     #앞에는 스페이스가 4번 들어간 것임, tab도 되지만 엄밀히 따지면 아님!\n",
    "    return z\n",
    "print(f(3,5)) #직접 넣는 값 3,5는 argument 아규먼트, 인자 라고도 함"
   ]
  },
  {
   "cell_type": "code",
   "execution_count": 47,
   "metadata": {},
   "outputs": [
    {
     "name": "stdout",
     "output_type": "stream",
     "text": [
      "4\n",
      "1\n",
      "2\n",
      "3\n",
      "1\n",
      "2\n",
      "3\n",
      "None\n"
     ]
    }
   ],
   "source": [
    "def ff():             #함수가 정의 되었을뿐 아직 호출되지 않았음\n",
    "    print('1')\n",
    "    print('2')\n",
    "    print('3')\n",
    "    return None # return값을 지정 안하면 return은 None임(생략되어보이지 않지만). 그래서 print(ff())를 하면 마지막에 None이 출력됨\n",
    "print(4)               # 4가 출력\n",
    "ff()                   # 함수가 호출되었기 때문에 1,2,3이 뒤에 출력됨\n",
    "print(ff())"
   ]
  },
  {
   "cell_type": "code",
   "execution_count": 49,
   "metadata": {},
   "outputs": [
    {
     "name": "stdout",
     "output_type": "stream",
     "text": [
      "314.0\n"
     ]
    }
   ],
   "source": [
    "def circle(r):  # 원주율 구하는 함수\n",
    "    width = r * r * 3.14\n",
    "    return width\n",
    "print(circle(10))"
   ]
  },
  {
   "cell_type": "code",
   "execution_count": 52,
   "metadata": {},
   "outputs": [
    {
     "name": "stdout",
     "output_type": "stream",
     "text": [
      "20\n"
     ]
    }
   ],
   "source": [
    "a = 10\n",
    "def aplus(): \n",
    "    global a   # a를 전역변수?로 가져와서 쓸 수 있게 됨. 함수 밖의 변수들에 영향을 끼치기 때문에 사용하는데 주의할것!\n",
    "    a += 10\n",
    "    return a\n",
    "print(aplus())"
   ]
  }
 ],
 "metadata": {
  "kernelspec": {
   "display_name": "Python 3",
   "language": "python",
   "name": "python3"
  },
  "language_info": {
   "codemirror_mode": {
    "name": "ipython",
    "version": 3
   },
   "file_extension": ".py",
   "mimetype": "text/x-python",
   "name": "python",
   "nbconvert_exporter": "python",
   "pygments_lexer": "ipython3",
   "version": "3.7.4"
  }
 },
 "nbformat": 4,
 "nbformat_minor": 2
}
